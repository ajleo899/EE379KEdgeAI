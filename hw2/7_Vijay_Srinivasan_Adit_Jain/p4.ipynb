{
 "cells": [
  {
   "cell_type": "code",
   "execution_count": 1,
   "metadata": {},
   "outputs": [],
   "source": [
    "import numpy as np\n",
    "import matplotlib.pyplot as plt"
   ]
  },
  {
   "cell_type": "markdown",
   "metadata": {},
   "source": [
    "## BodyTrack Gov"
   ]
  },
  {
   "cell_type": "code",
   "execution_count": 4,
   "metadata": {},
   "outputs": [],
   "source": [
    "time = []\n",
    "watts = []\n",
    "freq = []\n",
    "max_temp = []\n",
    "\n",
    "with open('log_q4.txt') as f:\n",
    "    lines = f.readlines()\n",
    "    time = [line.split()[0] for line in lines]\n",
    "    watts = [line.split()[1] for line in lines]\n",
    "    freq = [line.split()[2] for line in lines]\n",
    "    max_temp = [line.split()[3] for line in lines]\n",
    "    "
   ]
  },
  {
   "cell_type": "code",
   "execution_count": 5,
   "metadata": {},
   "outputs": [],
   "source": [
    "time = time[77:981]\n",
    "watts = watts[77:981]\n",
    "freq = freq[77:981]\n",
    "max_temp = max_temp[77:981]\n",
    "\n",
    "\n",
    "for i in range(len(watts)):\n",
    "    time[i] = float(time[i])\n",
    "    watts[i] = float(watts[i])\n",
    "    freq[i] = float(freq[i]) / 1000000\n",
    "    max_temp[i] = float(max_temp[i])"
   ]
  },
  {
   "cell_type": "code",
   "execution_count": 6,
   "metadata": {},
   "outputs": [
    {
     "name": "stdout",
     "output_type": "stream",
     "text": [
      "6.318982300884955\n"
     ]
    }
   ],
   "source": [
    "power_avg = np.mean(watts)\n",
    "print(power_avg)"
   ]
  },
  {
   "cell_type": "code",
   "execution_count": 8,
   "metadata": {},
   "outputs": [
    {
     "name": "stdout",
     "output_type": "stream",
     "text": [
      "69.51106194690266\n",
      "73.0\n"
     ]
    }
   ],
   "source": [
    "temp_avg = np.mean(max_temp)\n",
    "print(temp_avg)\n",
    "print(np.max(max_temp))"
   ]
  },
  {
   "cell_type": "markdown",
   "metadata": {},
   "source": [
    "## Blackscholes Gov"
   ]
  },
  {
   "cell_type": "code",
   "execution_count": 30,
   "metadata": {},
   "outputs": [],
   "source": [
    "time = []\n",
    "watts = []\n",
    "freq = []\n",
    "max_temp = []\n",
    "\n",
    "with open('log_q4_pt2_black.txt') as f:\n",
    "    lines = f.readlines()\n",
    "    time = [line.split()[0] for line in lines]\n",
    "    watts = [line.split()[1] for line in lines]\n",
    "    freq = [line.split()[2] for line in lines]\n",
    "    max_temp = [line.split()[3] for line in lines]\n",
    "    "
   ]
  },
  {
   "cell_type": "code",
   "execution_count": 31,
   "metadata": {},
   "outputs": [],
   "source": [
    "time = time[62:1029]\n",
    "watts = watts[62:1029]\n",
    "freq = freq[62:1029]\n",
    "max_temp = max_temp[62:1029]\n",
    "\n",
    "\n",
    "for i in range(len(watts)):\n",
    "    time[i] = float(time[i])\n",
    "    watts[i] = float(watts[i])\n",
    "    freq[i] = float(freq[i]) / 1000000\n",
    "    max_temp[i] = float(max_temp[i])"
   ]
  },
  {
   "cell_type": "code",
   "execution_count": 32,
   "metadata": {},
   "outputs": [
    {
     "name": "stdout",
     "output_type": "stream",
     "text": [
      "5.928501551189246\n"
     ]
    }
   ],
   "source": [
    "power_avg = np.mean(watts)\n",
    "print(power_avg)"
   ]
  },
  {
   "cell_type": "code",
   "execution_count": 33,
   "metadata": {},
   "outputs": [
    {
     "name": "stdout",
     "output_type": "stream",
     "text": [
      "68.35056876938987\n",
      "71.0\n"
     ]
    }
   ],
   "source": [
    "temp_avg = np.mean(max_temp)\n",
    "print(temp_avg)\n",
    "print(np.max(max_temp))"
   ]
  },
  {
   "cell_type": "code",
   "execution_count": 34,
   "metadata": {},
   "outputs": [
    {
     "name": "stdout",
     "output_type": "stream",
     "text": [
      "total power:  1146.5722000000003\n"
     ]
    }
   ],
   "source": [
    "power_total = np.sum(watts)\n",
    "print(\"total power: \", power_total*0.2)"
   ]
  },
  {
   "cell_type": "code",
   "execution_count": null,
   "metadata": {},
   "outputs": [],
   "source": []
  }
 ],
 "metadata": {
  "kernelspec": {
   "display_name": "Python 3",
   "language": "python",
   "name": "python3"
  },
  "language_info": {
   "codemirror_mode": {
    "name": "ipython",
    "version": 3
   },
   "file_extension": ".py",
   "mimetype": "text/x-python",
   "name": "python",
   "nbconvert_exporter": "python",
   "pygments_lexer": "ipython3",
   "version": "3.8.3"
  }
 },
 "nbformat": 4,
 "nbformat_minor": 4
}

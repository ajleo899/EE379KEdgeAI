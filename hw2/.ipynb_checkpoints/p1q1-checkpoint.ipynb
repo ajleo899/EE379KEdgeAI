{
 "cells": [
  {
   "cell_type": "code",
   "execution_count": 1,
   "metadata": {},
   "outputs": [],
   "source": [
    "import numpy as np\n",
    "import matplotlib.pyplot as plt\n"
   ]
  },
  {
   "cell_type": "code",
   "execution_count": null,
   "metadata": {},
   "outputs": [],
   "source": [
    "time = []\n",
    "volts = []\n",
    "amps = []\n",
    "watts = []\n",
    "watts_per_hr = []\n",
    "c0_usage = []\n",
    "c1_usage = []\n",
    "c2_usage = []\n",
    "c3_usage = []\n",
    "c4_usage = []\n",
    "c5_usage = []\n",
    "c6_usage = []\n",
    "c7_usage = []\n",
    "\n",
    "with open('log.txt') as f:\n",
    "    lines = f.readlines()\n",
    "    time = [line.split()[0] for line in lines]\n",
    "    volts = [line.split()[1] for line in lines]\n",
    "    amps = [line.split()[2] for line in lines]\n",
    "    watts = [line.split()[3] for line in lines]\n",
    "    watts_per_hr = [line.split()[4] for line in lines]\n",
    "    \n",
    "    c0_usage = [line.split()[5] for line in lines]\n",
    "    c1_usage = [line.split()[6] for line in lines]\n",
    "    c2_usage = [line.split()[7] for line in lines]\n",
    "    c3_usage = [line.split()[8] for line in lines]\n",
    "    c4_usage = [line.split()[9] for line in lines]\n",
    "    c5_usage = [line.split()[10] for line in lines]\n",
    "    c6_usage = [line.split()[11] for line in lines]\n",
    "    c7_usage = [line.split()[12] for line in lines]\n",
    "    \n",
    "    # temperature readings on big cluster only, cores 4, 5, 6, and 7\n",
    "    temp4 = [line.split()[13] for line in lines]\n",
    "    temp5 = [line.split()[14] for line in lines]\n",
    "    temp6 = [line.split()[15] for line in lines]\n",
    "    temp7 = [line.split()[16] for line in lines]\n",
    "    \n",
    "# Use the recorded values to plot the system power [Watts], core usage [% utilization], and temperature (i.e.,\n",
    "# temperature for each big core) [°C] over time.\n"
   ]
  }
 ],
 "metadata": {
  "kernelspec": {
   "display_name": "Python 3",
   "language": "python",
   "name": "python3"
  },
  "language_info": {
   "codemirror_mode": {
    "name": "ipython",
    "version": 3
   },
   "file_extension": ".py",
   "mimetype": "text/x-python",
   "name": "python",
   "nbconvert_exporter": "python",
   "pygments_lexer": "ipython3",
   "version": "3.7.4"
  }
 },
 "nbformat": 4,
 "nbformat_minor": 2
}

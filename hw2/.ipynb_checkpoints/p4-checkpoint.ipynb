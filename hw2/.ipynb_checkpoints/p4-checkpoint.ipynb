{
 "cells": [
  {
   "cell_type": "code",
   "execution_count": 11,
   "metadata": {},
   "outputs": [],
   "source": [
    "import numpy as np\n",
    "import matplotlib.pyplot as plt"
   ]
  },
  {
   "cell_type": "markdown",
   "metadata": {},
   "source": [
    "## BodyTrack Gov"
   ]
  },
  {
   "cell_type": "code",
   "execution_count": 12,
   "metadata": {},
   "outputs": [],
   "source": [
    "time = []\n",
    "watts = []\n",
    "freq = []\n",
    "max_temp = []\n",
    "\n",
    "with open('log_q4.txt') as f:\n",
    "    lines = f.readlines()\n",
    "    time = [line.split()[0] for line in lines]\n",
    "    watts = [line.split()[1] for line in lines]\n",
    "    freq = [line.split()[2] for line in lines]\n",
    "    max_temp = [line.split()[3] for line in lines]\n",
    "    "
   ]
  },
  {
   "cell_type": "code",
   "execution_count": 13,
   "metadata": {},
   "outputs": [],
   "source": [
    "time = time[77:981]\n",
    "watts = watts[77:981]\n",
    "freq = freq[77:981]\n",
    "max_temp = max_temp[77:981]\n",
    "\n",
    "\n",
    "for i in range(len(watts)):\n",
    "    time[i] = float(time[i])\n",
    "    watts[i] = float(watts[i])\n",
    "    freq[i] = float(freq[i]) / 1000000\n",
    "    max_temp[i] = float(max_temp[i])"
   ]
  },
  {
   "cell_type": "code",
   "execution_count": 14,
   "metadata": {},
   "outputs": [
    {
     "name": "stdout",
     "output_type": "stream",
     "text": [
      "6.318982300884955\n"
     ]
    }
   ],
   "source": [
    "power_avg = np.mean(watts)\n",
    "print(power_avg)"
   ]
  },
  {
   "cell_type": "code",
   "execution_count": 15,
   "metadata": {},
   "outputs": [
    {
     "name": "stdout",
     "output_type": "stream",
     "text": [
      "69.51106194690266\n",
      "73.0\n"
     ]
    }
   ],
   "source": [
    "temp_avg = np.mean(max_temp)\n",
    "print(temp_avg)\n",
    "print(np.max(max_temp))"
   ]
  },
  {
   "cell_type": "code",
   "execution_count": 16,
   "metadata": {},
   "outputs": [
    {
     "name": "stdout",
     "output_type": "stream",
     "text": [
      "1142.472\n"
     ]
    }
   ],
   "source": [
    "# Energy\n",
    "consumption = sum(watts)\n",
    "print(consumption*0.2) # 0.2 is our sampling rate"
   ]
  },
  {
   "cell_type": "markdown",
   "metadata": {},
   "source": [
    "## Blackscholes Gov"
   ]
  },
  {
   "cell_type": "code",
   "execution_count": 6,
   "metadata": {},
   "outputs": [],
   "source": [
    "time = []\n",
    "watts = []\n",
    "freq = []\n",
    "max_temp = []\n",
    "\n",
    "with open('log_q4_black.txt') as f:\n",
    "    lines = f.readlines()\n",
    "    time = [line.split()[0] for line in lines]\n",
    "    watts = [line.split()[1] for line in lines]\n",
    "    freq = [line.split()[2] for line in lines]\n",
    "    max_temp = [line.split()[3] for line in lines]\n",
    "    "
   ]
  },
  {
   "cell_type": "code",
   "execution_count": 7,
   "metadata": {},
   "outputs": [],
   "source": [
    "time = time[9:1126]\n",
    "watts = watts[9:1126]\n",
    "freq = freq[9:1126]\n",
    "max_temp = max_temp[9:1126]\n",
    "\n",
    "\n",
    "for i in range(len(watts)):\n",
    "    time[i] = float(time[i])\n",
    "    watts[i] = float(watts[i])\n",
    "    freq[i] = float(freq[i]) / 1000000\n",
    "    max_temp[i] = float(max_temp[i])"
   ]
  },
  {
   "cell_type": "code",
   "execution_count": 8,
   "metadata": {},
   "outputs": [
    {
     "name": "stdout",
     "output_type": "stream",
     "text": [
      "5.895289167412713\n"
     ]
    }
   ],
   "source": [
    "power_avg = np.mean(watts)\n",
    "print(power_avg)"
   ]
  },
  {
   "cell_type": "code",
   "execution_count": 9,
   "metadata": {},
   "outputs": [
    {
     "name": "stdout",
     "output_type": "stream",
     "text": [
      "69.53536257833483\n",
      "73.0\n"
     ]
    }
   ],
   "source": [
    "temp_avg = np.mean(max_temp)\n",
    "print(temp_avg)\n",
    "print(np.max(max_temp))"
   ]
  },
  {
   "cell_type": "code",
   "execution_count": 10,
   "metadata": {},
   "outputs": [
    {
     "name": "stdout",
     "output_type": "stream",
     "text": [
      "1317.0076\n"
     ]
    }
   ],
   "source": [
    "# Energy\n",
    "consumption = sum(watts)\n",
    "print(consumption*0.2) # 0.2 is our sampling rate"
   ]
  },
  {
   "cell_type": "code",
   "execution_count": null,
   "metadata": {},
   "outputs": [],
   "source": []
  }
 ],
 "metadata": {
  "kernelspec": {
   "display_name": "Python 3",
   "language": "python",
   "name": "python3"
  },
  "language_info": {
   "codemirror_mode": {
    "name": "ipython",
    "version": 3
   },
   "file_extension": ".py",
   "mimetype": "text/x-python",
   "name": "python",
   "nbconvert_exporter": "python",
   "pygments_lexer": "ipython3",
   "version": "3.7.4"
  }
 },
 "nbformat": 4,
 "nbformat_minor": 4
}

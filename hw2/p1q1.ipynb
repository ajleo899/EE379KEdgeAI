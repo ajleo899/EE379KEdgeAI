{
 "cells": [
  {
   "cell_type": "code",
   "execution_count": 1,
   "metadata": {},
   "outputs": [],
   "source": [
    "import numpy as np\n",
    "import matplotlib.pyplot as plt\n"
   ]
  },
  {
   "cell_type": "code",
   "execution_count": 2,
   "metadata": {},
   "outputs": [],
   "source": [
    "time = []\n",
    "volts = []\n",
    "amps = []\n",
    "watts = []\n",
    "watts_per_hr = []\n",
    "c0_usage = []\n",
    "c1_usage = []\n",
    "c2_usage = []\n",
    "c3_usage = []\n",
    "c4_usage = []\n",
    "c5_usage = []\n",
    "c6_usage = []\n",
    "c7_usage = []\n",
    "\n",
    "with open('log.txt') as f:\n",
    "    lines = f.readlines()\n",
    "    time = [line.split()[0] for line in lines]\n",
    "    #volts = [line.split()[1] for line in lines]\n",
    "    #amps = [line.split()[2] for line in lines]\n",
    "    watts = [line.split()[1] for line in lines]\n",
    "    #watts_per_hr = [line.split()[4] for line in lines]\n",
    "    \n",
    "    c0_usage = [line.split()[2] for line in lines]\n",
    "    c1_usage = [line.split()[3] for line in lines]\n",
    "    c2_usage = [line.split()[4] for line in lines]\n",
    "    c3_usage = [line.split()[5] for line in lines]\n",
    "    c4_usage = [line.split()[6] for line in lines]\n",
    "    c5_usage = [line.split()[7] for line in lines]\n",
    "    c6_usage = [line.split()[8] for line in lines]\n",
    "    c7_usage = [line.split()[9] for line in lines]\n",
    "    \n",
    "    # temperature readings on big cluster only, cores 4, 5, 6, and 7\n",
    "    temp4 = [line.split()[10] for line in lines]\n",
    "    temp5 = [line.split()[11] for line in lines]\n",
    "    temp6 = [line.split()[12] for line in lines]\n",
    "    temp7 = [line.split()[13] for line in lines]\n",
    "    \n",
    "# Use the recorded values to plot the system power [Watts], core usage [% utilization], and temperature (i.e.,\n",
    "# temperature for each big core) [°C] over time.\n"
   ]
  },
  {
   "cell_type": "code",
   "execution_count": 3,
   "metadata": {},
   "outputs": [
    {
     "name": "stdout",
     "output_type": "stream",
     "text": [
      "['W', '0.0', '0.0', '0.0', '8.848', '8.848', '8.848', '8.848', '8.848', '9.206', '9.206', '9.206', '9.206', '9.206', '8.722', '8.722', '8.722', '8.722', '8.722', '8.615', '8.615', '8.615', '8.615', '8.615', '9.252', '9.252', '9.252', '9.252', '9.252', '9.252', '8.775', '8.775', '8.775', '8.775', '8.775', '8.962', '8.962', '8.962', '8.962', '9.145', '9.145', '9.145', '9.145', '9.145', '9.321', '9.321', '9.321', '9.321', '9.321', '8.687', '8.687', '8.687', '8.687', '8.687', '8.66', '8.66', '8.66', '8.66', '8.66', '8.767', '8.767', '8.767', '8.767', '8.767', '9.119', '9.119', '9.119', '9.119', '9.119', '8.973', '8.973', '8.973', '8.973', '8.973', '8.817', '8.817', '8.817', '8.817', '8.817', '8.744', '8.744', '8.744', '8.744', '8.744', '9.359', '9.359', '9.359', '9.359', '9.359', '9.313', '9.313', '9.313', '9.313', '9.313', '9.199', '9.199', '9.199', '9.199', '9.199', '9.199', '8.867']\n"
     ]
    }
   ],
   "source": [
    "print(watts)"
   ]
  },
  {
   "cell_type": "code",
   "execution_count": 4,
   "metadata": {},
   "outputs": [
    {
     "name": "stdout",
     "output_type": "stream",
     "text": [
      "<class 'str'>\n"
     ]
    }
   ],
   "source": []
  },
  {
   "cell_type": "code",
   "execution_count": 22,
   "metadata": {},
   "outputs": [],
   "source": [
    "time = time[1:]\n",
    "watts = watts[1:]\n",
    "\n",
    "c0_usage = c0_usage[1:]\n",
    "c1_usage = c1_usage[1:]\n",
    "c2_usage = c2_usage[1:]\n",
    "c3_usage = c3_usage[1:]\n",
    "c4_usage = c4_usage[1:]\n",
    "c5_usage = c5_usage[1:]\n",
    "c6_usage = c6_usage[1:]\n",
    "c7_usage = c7_usage[1:]\n",
    "\n",
    "temp4 = temp4[1:]\n",
    "temp5 = temp5[1:]\n",
    "temp6 = temp6[:]\n",
    "temp7 = temp7[:]\n"
   ]
  },
  {
   "cell_type": "code",
   "execution_count": 5,
   "metadata": {},
   "outputs": [
    {
     "ename": "TypeError",
     "evalue": "int() argument must be a string, a bytes-like object or a number, not 'list'",
     "output_type": "error",
     "traceback": [
      "\u001b[0;31m---------------------------------------------------------------------------\u001b[0m",
      "\u001b[0;31mTypeError\u001b[0m                                 Traceback (most recent call last)",
      "\u001b[0;32m<ipython-input-5-14682566da9d>\u001b[0m in \u001b[0;36m<module>\u001b[0;34m\u001b[0m\n\u001b[0;32m----> 1\u001b[0;31m \u001b[0mwatts\u001b[0m \u001b[0;34m=\u001b[0m \u001b[0mint\u001b[0m\u001b[0;34m(\u001b[0m\u001b[0mwatts\u001b[0m\u001b[0;34m)\u001b[0m\u001b[0;34m\u001b[0m\u001b[0;34m\u001b[0m\u001b[0m\n\u001b[0m",
      "\u001b[0;31mTypeError\u001b[0m: int() argument must be a string, a bytes-like object or a number, not 'list'"
     ]
    }
   ],
   "source": [
    "for i in len(watts):\n",
    "    watts[i] = int(watts[])"
   ]
  },
  {
   "cell_type": "code",
   "execution_count": 29,
   "metadata": {},
   "outputs": [
    {
     "name": "stdout",
     "output_type": "stream",
     "text": [
      "[16.1498166505, 16.1498166525, 16.1498166545, 16.1498166565, 16.1498166585, 16.1498166605, 16.1498166625, 16.1498166645, 16.1498166665, 16.149816668499998, 16.149816670499998, 16.1498166725, 16.149816674500002, 16.149816676500002, 16.1498166785, 16.1498166805, 16.1498166825, 16.1498166845, 16.1498166865, 16.1498166885, 16.1498166905, 16.1498166925, 16.1498166945, 16.1498166965, 16.1498166985, 16.1498167005, 16.1498167025, 16.1498167045, 16.1498167065, 16.149816708499998, 16.149816710499998, 16.1498167125, 16.149816714500002, 16.149816716500002, 16.1498167185, 16.1498167206, 16.1498167226, 16.1498167246, 16.1498167266, 16.149816728599998, 16.149816730599998, 16.1498167326, 16.1498167346, 16.149816736600002, 16.1498167386, 16.1498167406, 16.1498167426, 16.1498167446, 16.1498167466, 16.1498167486, 16.1498167506, 16.1498167526, 16.1498167546, 16.1498167566, 16.1498167586, 16.1498167606, 16.1498167626, 16.1498167646, 16.1498167666, 16.149816768599997, 16.1498167706, 16.1498167726, 16.1498167746, 16.1498167766, 16.149816778599998, 16.1498167806, 16.1498167826, 16.1498167846, 16.149816786600002, 16.1498167886, 16.1498167906, 16.1498167926, 16.1498167946, 16.1498167966, 16.1498167986, 16.1498168007, 16.1498168027, 16.1498168047, 16.149816806700002, 16.1498168087, 16.1498168107, 16.1498168127, 16.1498168147, 16.1498168167, 16.1498168187, 16.1498168207, 16.1498168227, 16.1498168247, 16.1498168267, 16.1498168287, 16.1498168307, 16.1498168327, 16.1498168347, 16.1498168367, 16.149816838699998, 16.149816840699998, 16.149816842699998, 16.149816844700002, 16.149816846700002, 16.1498168487]\n"
     ]
    }
   ],
   "source": [
    "time_norm = []\n",
    "for x in time:\n",
    "    \n",
    "    time_norm.append(float(x)/100000000)\n",
    "    \n",
    "print(time_norm)"
   ]
  },
  {
   "cell_type": "code",
   "execution_count": 37,
   "metadata": {},
   "outputs": [
    {
     "data": {
      "image/png": "[encoded data removed]",
      "text/plain": [
       "<Figure size 432x288 with 1 Axes>"
      ]
     },
     "metadata": {
      "needs_background": "light"
     },
     "output_type": "display_data"
    }
   ],
   "source": [
    "plt.plot(watts)\n",
    "plt.title('System Power Over Time')\n",
    "plt.xlabel('Time (s)')\n",
    "plt.ylabel('Power (W)')\n",
    "plt.show()"
   ]
  },
  {
   "cell_type": "code",
   "execution_count": null,
   "metadata": {},
   "outputs": [],
   "source": []
  }
 ],
 "metadata": {
  "kernelspec": {
   "display_name": "Python 3",
   "language": "python",
   "name": "python3"
  },
  "language_info": {
   "codemirror_mode": {
    "name": "ipython",
    "version": 3
   },
   "file_extension": ".py",
   "mimetype": "text/x-python",
   "name": "python",
   "nbconvert_exporter": "python",
   "pygments_lexer": "ipython3",
   "version": "3.8.3"
  }
 },
 "nbformat": 4,
 "nbformat_minor": 2
}

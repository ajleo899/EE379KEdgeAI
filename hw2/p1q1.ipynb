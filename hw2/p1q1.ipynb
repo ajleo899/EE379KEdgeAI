{
 "cells": [
  {
   "cell_type": "code",
   "execution_count": 55,
   "metadata": {},
   "outputs": [],
   "source": [
    "import numpy as np\n",
    "import matplotlib.pyplot as plt\n"
   ]
  },
  {
   "cell_type": "code",
   "execution_count": 56,
   "metadata": {},
   "outputs": [],
   "source": [
    "time = []\n",
    "volts = []\n",
    "amps = []\n",
    "watts = []\n",
    "watts_per_hr = []\n",
    "c0_usage = []\n",
    "c1_usage = []\n",
    "c2_usage = []\n",
    "c3_usage = []\n",
    "c4_usage = []\n",
    "c5_usage = []\n",
    "c6_usage = []\n",
    "c7_usage = []\n",
    "\n",
    "with open('logq1.txt') as f:\n",
    "    lines = f.readlines()\n",
    "    time = [line.split()[0] for line in lines]\n",
    "    #volts = [line.split()[1] for line in lines]\n",
    "    #amps = [line.split()[2] for line in lines]\n",
    "    watts = [line.split()[1] for line in lines]\n",
    "    #watts_per_hr = [line.split()[4] for line in lines]\n",
    "    \n",
    "    c0_usage = [line.split()[2] for line in lines]\n",
    "    c1_usage = [line.split()[3] for line in lines]\n",
    "    c2_usage = [line.split()[4] for line in lines]\n",
    "    c3_usage = [line.split()[5] for line in lines]\n",
    "    c4_usage = [line.split()[6] for line in lines]\n",
    "    c5_usage = [line.split()[7] for line in lines]\n",
    "    c6_usage = [line.split()[8] for line in lines]\n",
    "    c7_usage = [line.split()[9] for line in lines]\n",
    "    \n",
    "    # temperature readings on big cluster only, cores 4, 5, 6, and 7\n",
    "    temp4 = [line.split()[10] for line in lines]\n",
    "    temp5 = [line.split()[11] for line in lines]\n",
    "    temp6 = [line.split()[12] for line in lines]\n",
    "    temp7 = [line.split()[13] for line in lines]\n",
    "    \n",
    "# Use the recorded values to plot the system power [Watts], core usage [% utilization], and temperature (i.e.,\n",
    "# temperature for each big core) [°C] over time.\n"
   ]
  },
  {
   "cell_type": "code",
   "execution_count": 57,
   "metadata": {},
   "outputs": [
    {
     "name": "stdout",
     "output_type": "stream",
     "text": [
      "['usage_c1', '0.0', '0.0', '0.0', '0.0', '0.0', '0.0', '0.0', '0.0', '0.0', '0.0', '0.0', '0.0', '0.0', '0.0', '0.0', '0.0', '0.0', '0.0', '0.0', '0.0', '0.0', '0.0', '0.0', '0.0', '0.0', '0.0', '0.0', '0.0', '0.0', '0.0', '0.0', '0.0', '0.0', '0.0', '0.0', '0.0', '0.0', '0.0', '0.0', '0.0', '0.0', '0.0', '0.0', '0.0', '0.0', '0.0', '0.0', '0.0', '0.0', '0.0', '0.0', '0.0', '0.0', '0.0', '0.0', '0.0', '0.0', '0.0', '0.0', '0.0', '0.0', '0.0', '0.0', '0.0', '0.0', '0.0', '0.0', '0.0', '0.0', '0.0', '0.0', '0.0', '0.0', '0.0', '0.0', '0.0', '0.0', '0.0', '0.0', '0.0', '0.0', '0.0', '0.0', '0.0', '0.0', '0.0', '0.1', '0.0', '0.0', '0.0', '0.0', '0.0', '0.0', '0.0', '0.0', '0.0', '0.0', '0.0', '0.0', '0.0']\n"
     ]
    }
   ],
   "source": [
    "print(c1_usage)"
   ]
  },
  {
   "cell_type": "code",
   "execution_count": null,
   "metadata": {},
   "outputs": [],
   "source": []
  },
  {
   "cell_type": "code",
   "execution_count": 58,
   "metadata": {},
   "outputs": [],
   "source": [
    "time = time[1:]\n",
    "watts = watts[1:]\n",
    "\n",
    "c0_usage = c0_usage[1:]\n",
    "c1_usage = c1_usage[1:]\n",
    "c2_usage = c2_usage[1:]\n",
    "c3_usage = c3_usage[1:]\n",
    "c4_usage = c4_usage[1:]\n",
    "c5_usage = c5_usage[1:]\n",
    "c6_usage = c6_usage[1:]\n",
    "c7_usage = c7_usage[1:]\n",
    "\n",
    "temp4 = temp4[1:]\n",
    "temp5 = temp5[1:]\n",
    "temp6 = temp6[:]\n",
    "temp7 = temp7[:]\n"
   ]
  },
  {
   "cell_type": "code",
   "execution_count": 59,
   "metadata": {},
   "outputs": [
    {
     "name": "stdout",
     "output_type": "stream",
     "text": [
      "['0.0', '0.0', '0.0', '0.0', '0.0', '0.0', '0.0', '0.0', '0.0', '0.0', '0.0', '0.0', '0.0', '0.0', '0.0', '0.0', '0.0', '0.048', '0.0', '0.0', '0.0', '0.0', '0.0', '0.0', '0.0', '0.0', '0.0', '0.0', '0.0', '0.0', '0.0', '0.0', '0.0', '0.048', '0.0', '0.0', '0.0', '0.0', '0.0', '0.0', '0.0', '0.0', '0.0', '0.0', '0.0', '0.0', '0.0', '0.0', '0.0', '0.0', '0.0', '0.0', '0.0', '0.0', '0.0', '0.0', '0.0', '0.0', '0.0', '0.0', '0.0', '0.0', '0.0', '0.0', '0.0', '0.0', '0.0', '0.0', '0.0', '0.0', '0.0', '0.0', '0.0', '0.0', '0.0', '0.0', '0.0', '0.0', '0.0', '0.0', '0.0', '0.0', '0.0', '0.0', '0.0', '0.0', '0.048', '0.0', '0.0', '0.0', '0.0', '0.0', '0.0', '0.0', '0.0', '0.0', '0.0', '0.0', '0.0', '0.0']\n"
     ]
    }
   ],
   "source": [
    "print(c7_usage)"
   ]
  },
  {
   "cell_type": "code",
   "execution_count": 60,
   "metadata": {},
   "outputs": [],
   "source": [
    "for i in range(len(watts)):\n",
    "    watts[i] = float(watts[i])\n",
    "    c0_usage[i] = float(c0_usage[i]) * 100\n",
    "    c1_usage[i] = float(c1_usage[i]) * 100\n",
    "    c2_usage[i] = float(c2_usage[i]) * 100\n",
    "    c3_usage[i] = float(c3_usage[i]) * 100\n",
    "    c4_usage[i] = float(c4_usage[i]) * 100\n",
    "    c5_usage[i] = float(c5_usage[i]) * 100\n",
    "    c6_usage[i] = float(c6_usage[i]) * 100\n",
    "    c7_usage[i] = float(c7_usage[i]) * 100"
   ]
  },
  {
   "cell_type": "code",
   "execution_count": 61,
   "metadata": {},
   "outputs": [
    {
     "name": "stdout",
     "output_type": "stream",
     "text": [
      "[16.1498166505, 16.1498166525, 16.1498166545, 16.1498166565, 16.1498166585, 16.1498166605, 16.1498166625, 16.1498166645, 16.1498166665, 16.149816668499998, 16.149816670499998, 16.1498166725, 16.149816674500002, 16.149816676500002, 16.1498166785, 16.1498166805, 16.1498166825, 16.1498166845, 16.1498166865, 16.1498166885, 16.1498166905, 16.1498166925, 16.1498166945, 16.1498166965, 16.1498166985, 16.1498167005, 16.1498167025, 16.1498167045, 16.1498167065, 16.149816708499998, 16.149816710499998, 16.1498167125, 16.149816714500002, 16.149816716500002, 16.1498167185, 16.1498167206, 16.1498167226, 16.1498167246, 16.1498167266, 16.149816728599998, 16.149816730599998, 16.1498167326, 16.1498167346, 16.149816736600002, 16.1498167386, 16.1498167406, 16.1498167426, 16.1498167446, 16.1498167466, 16.1498167486, 16.1498167506, 16.1498167526, 16.1498167546, 16.1498167566, 16.1498167586, 16.1498167606, 16.1498167626, 16.1498167646, 16.1498167666, 16.149816768599997, 16.1498167706, 16.1498167726, 16.1498167746, 16.1498167766, 16.149816778599998, 16.1498167806, 16.1498167826, 16.1498167846, 16.149816786600002, 16.1498167886, 16.1498167906, 16.1498167926, 16.1498167946, 16.1498167966, 16.1498167986, 16.1498168007, 16.1498168027, 16.1498168047, 16.149816806700002, 16.1498168087, 16.1498168107, 16.1498168127, 16.1498168147, 16.1498168167, 16.1498168187, 16.1498168207, 16.1498168227, 16.1498168247, 16.1498168267, 16.1498168287, 16.1498168307, 16.1498168327, 16.1498168347, 16.1498168367, 16.149816838699998, 16.149816840699998, 16.149816842699998, 16.149816844700002, 16.149816846700002, 16.1498168487]\n"
     ]
    }
   ],
   "source": [
    "time_norm = []\n",
    "for x in time:\n",
    "    \n",
    "    time_norm.append(float(x)/100000000)\n",
    "    \n",
    "print(time_norm)"
   ]
  },
  {
   "cell_type": "code",
   "execution_count": 62,
   "metadata": {},
   "outputs": [
    {
     "data": {
      "image/png": "[encoded data removed]",
      "text/plain": [
       "<Figure size 432x288 with 1 Axes>"
      ]
     },
     "metadata": {
      "needs_background": "light"
     },
     "output_type": "display_data"
    }
   ],
   "source": [
    "plt.plot(watts)\n",
    "plt.title('System Power Over Time')\n",
    "plt.xlabel('Time (s)')\n",
    "plt.ylabel('Power (W)')\n",
    "plt.show()"
   ]
  },
  {
   "cell_type": "code",
   "execution_count": 63,
   "metadata": {},
   "outputs": [
    {
     "data": {
      "image/png": "[encoded data removed]",
      "text/plain": [
       "<Figure size 432x288 with 1 Axes>"
      ]
     },
     "metadata": {
      "needs_background": "light"
     },
     "output_type": "display_data"
    }
   ],
   "source": [
    "fig = plt.figure()\n",
    "plt.plot(c4_usage)\n",
    "plt.plot(c5_usage)\n",
    "plt.plot(c6_usage)\n",
    "plt.plot(c7_usage)\n",
    "plt.legend((\"c4\", 'c5', 'c6', 'c7'))\n",
    "plt.show()"
   ]
  },
  {
   "cell_type": "code",
   "execution_count": null,
   "metadata": {},
   "outputs": [],
   "source": []
  },
  {
   "cell_type": "code",
   "execution_count": null,
   "metadata": {},
   "outputs": [],
   "source": []
  }
 ],
 "metadata": {
  "kernelspec": {
   "display_name": "Python 3",
   "language": "python",
   "name": "python3"
  },
  "language_info": {
   "codemirror_mode": {
    "name": "ipython",
    "version": 3
   },
   "file_extension": ".py",
   "mimetype": "text/x-python",
   "name": "python",
   "nbconvert_exporter": "python",
   "pygments_lexer": "ipython3",
   "version": "3.8.3"
  }
 },
 "nbformat": 4,
 "nbformat_minor": 2
}

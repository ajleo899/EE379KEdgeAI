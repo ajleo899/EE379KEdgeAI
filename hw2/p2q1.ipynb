{
 "cells": [
  {
   "cell_type": "code",
   "execution_count": 75,
   "metadata": {},
   "outputs": [],
   "source": [
    "import numpy as np\n",
    "import matplotlib.pyplot as plt\n",
    "import pandas as pd\n",
    "from sklearn import linear_model\n",
    "from sklearn.model_selection import train_test_split\n",
    "import seaborn as sns\n",
    "from sklearn import metrics\n",
    "from sklearn.tree import DecisionTreeClassifier\n",
    "from sklearn.neural_network import MLPRegressor"
   ]
  },
  {
   "cell_type": "code",
   "execution_count": 2,
   "metadata": {},
   "outputs": [],
   "source": [
    "data = pd.read_csv(\"xu3_dataset.csv\")\n",
    "test_data_black = pd.read_csv(\"xu3_blackscholes.csv\")\n",
    "test_data_body = pd.read_csv(\"xu3_bodytrack.csv\")"
   ]
  },
  {
   "cell_type": "code",
   "execution_count": 3,
   "metadata": {},
   "outputs": [
    {
     "data": {
      "text/html": [
       "<div>\n",
       "<style scoped>\n",
       "    .dataframe tbody tr th:only-of-type {\n",
       "        vertical-align: middle;\n",
       "    }\n",
       "\n",
       "    .dataframe tbody tr th {\n",
       "        vertical-align: top;\n",
       "    }\n",
       "\n",
       "    .dataframe thead th {\n",
       "        text-align: right;\n",
       "    }\n",
       "</style>\n",
       "<table border=\"1\" class=\"dataframe\">\n",
       "  <thead>\n",
       "    <tr style=\"text-align: right;\">\n",
       "      <th></th>\n",
       "      <th>total_watts</th>\n",
       "      <th>w_big</th>\n",
       "      <th>w_little</th>\n",
       "      <th>w_gpu</th>\n",
       "      <th>w_mem</th>\n",
       "      <th>usage_c4</th>\n",
       "      <th>usage_c5</th>\n",
       "      <th>usage_c6</th>\n",
       "      <th>usage_c7</th>\n",
       "      <th>temp4</th>\n",
       "      <th>temp5</th>\n",
       "      <th>temp6</th>\n",
       "      <th>temp7</th>\n",
       "      <th>temp_gpu</th>\n",
       "      <th>freq_big_cluster</th>\n",
       "    </tr>\n",
       "  </thead>\n",
       "  <tbody>\n",
       "    <tr>\n",
       "      <th>0</th>\n",
       "      <td>2.981</td>\n",
       "      <td>0.465327</td>\n",
       "      <td>0.034884</td>\n",
       "      <td>0.119160</td>\n",
       "      <td>0.03050</td>\n",
       "      <td>0.000000</td>\n",
       "      <td>0.0000</td>\n",
       "      <td>0.0</td>\n",
       "      <td>0.0</td>\n",
       "      <td>59</td>\n",
       "      <td>63</td>\n",
       "      <td>63</td>\n",
       "      <td>59</td>\n",
       "      <td>58</td>\n",
       "      <td>1500000000</td>\n",
       "    </tr>\n",
       "    <tr>\n",
       "      <th>1</th>\n",
       "      <td>2.973</td>\n",
       "      <td>0.525705</td>\n",
       "      <td>0.036720</td>\n",
       "      <td>0.119160</td>\n",
       "      <td>0.04026</td>\n",
       "      <td>0.000000</td>\n",
       "      <td>0.1875</td>\n",
       "      <td>0.0</td>\n",
       "      <td>0.0</td>\n",
       "      <td>59</td>\n",
       "      <td>63</td>\n",
       "      <td>63</td>\n",
       "      <td>59</td>\n",
       "      <td>58</td>\n",
       "      <td>1500000000</td>\n",
       "    </tr>\n",
       "    <tr>\n",
       "      <th>2</th>\n",
       "      <td>2.973</td>\n",
       "      <td>0.525705</td>\n",
       "      <td>0.039474</td>\n",
       "      <td>0.119160</td>\n",
       "      <td>0.04026</td>\n",
       "      <td>0.000000</td>\n",
       "      <td>0.0000</td>\n",
       "      <td>0.0</td>\n",
       "      <td>0.0</td>\n",
       "      <td>59</td>\n",
       "      <td>63</td>\n",
       "      <td>63</td>\n",
       "      <td>59</td>\n",
       "      <td>58</td>\n",
       "      <td>1500000000</td>\n",
       "    </tr>\n",
       "    <tr>\n",
       "      <th>3</th>\n",
       "      <td>2.973</td>\n",
       "      <td>0.465920</td>\n",
       "      <td>0.036720</td>\n",
       "      <td>0.119160</td>\n",
       "      <td>0.03660</td>\n",
       "      <td>0.000000</td>\n",
       "      <td>0.0000</td>\n",
       "      <td>0.0</td>\n",
       "      <td>0.0</td>\n",
       "      <td>59</td>\n",
       "      <td>63</td>\n",
       "      <td>63</td>\n",
       "      <td>59</td>\n",
       "      <td>58</td>\n",
       "      <td>1500000000</td>\n",
       "    </tr>\n",
       "    <tr>\n",
       "      <th>4</th>\n",
       "      <td>2.973</td>\n",
       "      <td>0.464286</td>\n",
       "      <td>0.036720</td>\n",
       "      <td>0.119160</td>\n",
       "      <td>0.03050</td>\n",
       "      <td>0.000000</td>\n",
       "      <td>0.0000</td>\n",
       "      <td>0.0</td>\n",
       "      <td>0.0</td>\n",
       "      <td>59</td>\n",
       "      <td>63</td>\n",
       "      <td>62</td>\n",
       "      <td>59</td>\n",
       "      <td>58</td>\n",
       "      <td>1500000000</td>\n",
       "    </tr>\n",
       "    <tr>\n",
       "      <th>...</th>\n",
       "      <td>...</td>\n",
       "      <td>...</td>\n",
       "      <td>...</td>\n",
       "      <td>...</td>\n",
       "      <td>...</td>\n",
       "      <td>...</td>\n",
       "      <td>...</td>\n",
       "      <td>...</td>\n",
       "      <td>...</td>\n",
       "      <td>...</td>\n",
       "      <td>...</td>\n",
       "      <td>...</td>\n",
       "      <td>...</td>\n",
       "      <td>...</td>\n",
       "      <td>...</td>\n",
       "    </tr>\n",
       "    <tr>\n",
       "      <th>1449</th>\n",
       "      <td>3.084</td>\n",
       "      <td>0.484065</td>\n",
       "      <td>0.037597</td>\n",
       "      <td>0.130083</td>\n",
       "      <td>0.03538</td>\n",
       "      <td>0.142857</td>\n",
       "      <td>0.0000</td>\n",
       "      <td>0.0</td>\n",
       "      <td>0.0</td>\n",
       "      <td>63</td>\n",
       "      <td>67</td>\n",
       "      <td>67</td>\n",
       "      <td>63</td>\n",
       "      <td>61</td>\n",
       "      <td>1500000000</td>\n",
       "    </tr>\n",
       "    <tr>\n",
       "      <th>1450</th>\n",
       "      <td>3.084</td>\n",
       "      <td>0.545484</td>\n",
       "      <td>0.039431</td>\n",
       "      <td>0.130083</td>\n",
       "      <td>0.03538</td>\n",
       "      <td>0.000000</td>\n",
       "      <td>0.0000</td>\n",
       "      <td>0.0</td>\n",
       "      <td>0.0</td>\n",
       "      <td>63</td>\n",
       "      <td>67</td>\n",
       "      <td>67</td>\n",
       "      <td>63</td>\n",
       "      <td>62</td>\n",
       "      <td>1500000000</td>\n",
       "    </tr>\n",
       "    <tr>\n",
       "      <th>1451</th>\n",
       "      <td>3.168</td>\n",
       "      <td>0.484640</td>\n",
       "      <td>0.039431</td>\n",
       "      <td>0.130083</td>\n",
       "      <td>0.03660</td>\n",
       "      <td>0.000000</td>\n",
       "      <td>0.0000</td>\n",
       "      <td>0.0</td>\n",
       "      <td>0.0</td>\n",
       "      <td>63</td>\n",
       "      <td>67</td>\n",
       "      <td>66</td>\n",
       "      <td>63</td>\n",
       "      <td>62</td>\n",
       "      <td>1500000000</td>\n",
       "    </tr>\n",
       "    <tr>\n",
       "      <th>1452</th>\n",
       "      <td>3.084</td>\n",
       "      <td>0.485106</td>\n",
       "      <td>0.042182</td>\n",
       "      <td>0.130083</td>\n",
       "      <td>0.03660</td>\n",
       "      <td>0.000000</td>\n",
       "      <td>0.0000</td>\n",
       "      <td>0.0</td>\n",
       "      <td>0.0</td>\n",
       "      <td>63</td>\n",
       "      <td>67</td>\n",
       "      <td>66</td>\n",
       "      <td>63</td>\n",
       "      <td>61</td>\n",
       "      <td>1500000000</td>\n",
       "    </tr>\n",
       "    <tr>\n",
       "      <th>1453</th>\n",
       "      <td>3.095</td>\n",
       "      <td>0.485106</td>\n",
       "      <td>0.038556</td>\n",
       "      <td>0.130083</td>\n",
       "      <td>0.03172</td>\n",
       "      <td>0.000000</td>\n",
       "      <td>0.0000</td>\n",
       "      <td>0.0</td>\n",
       "      <td>0.0</td>\n",
       "      <td>63</td>\n",
       "      <td>67</td>\n",
       "      <td>67</td>\n",
       "      <td>63</td>\n",
       "      <td>62</td>\n",
       "      <td>1500000000</td>\n",
       "    </tr>\n",
       "  </tbody>\n",
       "</table>\n",
       "<p>1454 rows × 15 columns</p>\n",
       "</div>"
      ],
      "text/plain": [
       "      total_watts     w_big  w_little     w_gpu    w_mem  usage_c4  usage_c5  \\\n",
       "0           2.981  0.465327  0.034884  0.119160  0.03050  0.000000    0.0000   \n",
       "1           2.973  0.525705  0.036720  0.119160  0.04026  0.000000    0.1875   \n",
       "2           2.973  0.525705  0.039474  0.119160  0.04026  0.000000    0.0000   \n",
       "3           2.973  0.465920  0.036720  0.119160  0.03660  0.000000    0.0000   \n",
       "4           2.973  0.464286  0.036720  0.119160  0.03050  0.000000    0.0000   \n",
       "...           ...       ...       ...       ...      ...       ...       ...   \n",
       "1449        3.084  0.484065  0.037597  0.130083  0.03538  0.142857    0.0000   \n",
       "1450        3.084  0.545484  0.039431  0.130083  0.03538  0.000000    0.0000   \n",
       "1451        3.168  0.484640  0.039431  0.130083  0.03660  0.000000    0.0000   \n",
       "1452        3.084  0.485106  0.042182  0.130083  0.03660  0.000000    0.0000   \n",
       "1453        3.095  0.485106  0.038556  0.130083  0.03172  0.000000    0.0000   \n",
       "\n",
       "      usage_c6  usage_c7  temp4  temp5  temp6  temp7  temp_gpu  \\\n",
       "0          0.0       0.0     59     63     63     59        58   \n",
       "1          0.0       0.0     59     63     63     59        58   \n",
       "2          0.0       0.0     59     63     63     59        58   \n",
       "3          0.0       0.0     59     63     63     59        58   \n",
       "4          0.0       0.0     59     63     62     59        58   \n",
       "...        ...       ...    ...    ...    ...    ...       ...   \n",
       "1449       0.0       0.0     63     67     67     63        61   \n",
       "1450       0.0       0.0     63     67     67     63        62   \n",
       "1451       0.0       0.0     63     67     66     63        62   \n",
       "1452       0.0       0.0     63     67     66     63        61   \n",
       "1453       0.0       0.0     63     67     67     63        62   \n",
       "\n",
       "      freq_big_cluster  \n",
       "0           1500000000  \n",
       "1           1500000000  \n",
       "2           1500000000  \n",
       "3           1500000000  \n",
       "4           1500000000  \n",
       "...                ...  \n",
       "1449        1500000000  \n",
       "1450        1500000000  \n",
       "1451        1500000000  \n",
       "1452        1500000000  \n",
       "1453        1500000000  \n",
       "\n",
       "[1454 rows x 15 columns]"
      ]
     },
     "execution_count": 3,
     "metadata": {},
     "output_type": "execute_result"
    }
   ],
   "source": [
    "test_data_body"
   ]
  },
  {
   "cell_type": "code",
   "execution_count": 4,
   "metadata": {},
   "outputs": [
    {
     "data": {
      "text/plain": [
       "2.6180000000000003"
      ]
     },
     "execution_count": 4,
     "metadata": {},
     "output_type": "execute_result"
    }
   ],
   "source": [
    "data['total_watts'].min()"
   ]
  },
  {
   "cell_type": "code",
   "execution_count": 5,
   "metadata": {},
   "outputs": [],
   "source": [
    "data['cluster_state'] = np.where(data['w_big'] >= 1, 1, 0)\n",
    "test_data_black['cluster_state'] = np.where(test_data_black['w_big'] >= 1, 1, 0)\n",
    "test_data_body['cluster_state'] = np.where(test_data_body['w_big'] >= 1, 1, 0)"
   ]
  },
  {
   "cell_type": "code",
   "execution_count": 6,
   "metadata": {},
   "outputs": [
    {
     "data": {
      "text/html": [
       "<div>\n",
       "<style scoped>\n",
       "    .dataframe tbody tr th:only-of-type {\n",
       "        vertical-align: middle;\n",
       "    }\n",
       "\n",
       "    .dataframe tbody tr th {\n",
       "        vertical-align: top;\n",
       "    }\n",
       "\n",
       "    .dataframe thead th {\n",
       "        text-align: right;\n",
       "    }\n",
       "</style>\n",
       "<table border=\"1\" class=\"dataframe\">\n",
       "  <thead>\n",
       "    <tr style=\"text-align: right;\">\n",
       "      <th></th>\n",
       "      <th>total_watts</th>\n",
       "      <th>w_big</th>\n",
       "      <th>w_little</th>\n",
       "      <th>w_gpu</th>\n",
       "      <th>w_mem</th>\n",
       "      <th>usage_c4</th>\n",
       "      <th>usage_c5</th>\n",
       "      <th>usage_c6</th>\n",
       "      <th>usage_c7</th>\n",
       "      <th>temp4</th>\n",
       "      <th>temp5</th>\n",
       "      <th>temp6</th>\n",
       "      <th>temp7</th>\n",
       "      <th>temp_gpu</th>\n",
       "      <th>freq_big_cluster</th>\n",
       "      <th>cluster_state</th>\n",
       "    </tr>\n",
       "  </thead>\n",
       "  <tbody>\n",
       "    <tr>\n",
       "      <th>0</th>\n",
       "      <td>3.065</td>\n",
       "      <td>0.474810</td>\n",
       "      <td>0.033012</td>\n",
       "      <td>0.096321</td>\n",
       "      <td>0.048800</td>\n",
       "      <td>0.0</td>\n",
       "      <td>0.0</td>\n",
       "      <td>0.0</td>\n",
       "      <td>0.0</td>\n",
       "      <td>49</td>\n",
       "      <td>53</td>\n",
       "      <td>52</td>\n",
       "      <td>48</td>\n",
       "      <td>47</td>\n",
       "      <td>1000000000</td>\n",
       "      <td>0</td>\n",
       "    </tr>\n",
       "    <tr>\n",
       "      <th>1</th>\n",
       "      <td>2.706</td>\n",
       "      <td>0.235620</td>\n",
       "      <td>0.032095</td>\n",
       "      <td>0.096515</td>\n",
       "      <td>0.032940</td>\n",
       "      <td>0.0</td>\n",
       "      <td>0.0</td>\n",
       "      <td>0.0</td>\n",
       "      <td>0.0</td>\n",
       "      <td>48</td>\n",
       "      <td>52</td>\n",
       "      <td>52</td>\n",
       "      <td>48</td>\n",
       "      <td>47</td>\n",
       "      <td>1000000000</td>\n",
       "      <td>0</td>\n",
       "    </tr>\n",
       "    <tr>\n",
       "      <th>2</th>\n",
       "      <td>2.706</td>\n",
       "      <td>0.235620</td>\n",
       "      <td>0.034846</td>\n",
       "      <td>0.096515</td>\n",
       "      <td>0.032940</td>\n",
       "      <td>0.0</td>\n",
       "      <td>0.0</td>\n",
       "      <td>0.0</td>\n",
       "      <td>0.0</td>\n",
       "      <td>48</td>\n",
       "      <td>52</td>\n",
       "      <td>52</td>\n",
       "      <td>48</td>\n",
       "      <td>47</td>\n",
       "      <td>1000000000</td>\n",
       "      <td>0</td>\n",
       "    </tr>\n",
       "    <tr>\n",
       "      <th>3</th>\n",
       "      <td>2.637</td>\n",
       "      <td>0.234685</td>\n",
       "      <td>0.034846</td>\n",
       "      <td>0.096321</td>\n",
       "      <td>0.037758</td>\n",
       "      <td>0.0</td>\n",
       "      <td>0.0</td>\n",
       "      <td>0.0</td>\n",
       "      <td>0.0</td>\n",
       "      <td>48</td>\n",
       "      <td>51</td>\n",
       "      <td>51</td>\n",
       "      <td>48</td>\n",
       "      <td>47</td>\n",
       "      <td>1000000000</td>\n",
       "      <td>0</td>\n",
       "    </tr>\n",
       "    <tr>\n",
       "      <th>4</th>\n",
       "      <td>2.637</td>\n",
       "      <td>0.233750</td>\n",
       "      <td>0.033929</td>\n",
       "      <td>0.096321</td>\n",
       "      <td>0.032886</td>\n",
       "      <td>0.0</td>\n",
       "      <td>0.0</td>\n",
       "      <td>0.0</td>\n",
       "      <td>0.0</td>\n",
       "      <td>48</td>\n",
       "      <td>51</td>\n",
       "      <td>51</td>\n",
       "      <td>48</td>\n",
       "      <td>47</td>\n",
       "      <td>1000000000</td>\n",
       "      <td>0</td>\n",
       "    </tr>\n",
       "    <tr>\n",
       "      <th>...</th>\n",
       "      <td>...</td>\n",
       "      <td>...</td>\n",
       "      <td>...</td>\n",
       "      <td>...</td>\n",
       "      <td>...</td>\n",
       "      <td>...</td>\n",
       "      <td>...</td>\n",
       "      <td>...</td>\n",
       "      <td>...</td>\n",
       "      <td>...</td>\n",
       "      <td>...</td>\n",
       "      <td>...</td>\n",
       "      <td>...</td>\n",
       "      <td>...</td>\n",
       "      <td>...</td>\n",
       "      <td>...</td>\n",
       "    </tr>\n",
       "    <tr>\n",
       "      <th>5410</th>\n",
       "      <td>3.844</td>\n",
       "      <td>1.157646</td>\n",
       "      <td>0.039474</td>\n",
       "      <td>0.123132</td>\n",
       "      <td>0.035380</td>\n",
       "      <td>0.0</td>\n",
       "      <td>0.0</td>\n",
       "      <td>0.0</td>\n",
       "      <td>0.0</td>\n",
       "      <td>63</td>\n",
       "      <td>67</td>\n",
       "      <td>67</td>\n",
       "      <td>62</td>\n",
       "      <td>60</td>\n",
       "      <td>2000000000</td>\n",
       "      <td>1</td>\n",
       "    </tr>\n",
       "    <tr>\n",
       "      <th>5411</th>\n",
       "      <td>3.851</td>\n",
       "      <td>1.157646</td>\n",
       "      <td>0.038514</td>\n",
       "      <td>0.123132</td>\n",
       "      <td>0.036600</td>\n",
       "      <td>0.0</td>\n",
       "      <td>0.0</td>\n",
       "      <td>0.0</td>\n",
       "      <td>0.0</td>\n",
       "      <td>63</td>\n",
       "      <td>67</td>\n",
       "      <td>67</td>\n",
       "      <td>62</td>\n",
       "      <td>60</td>\n",
       "      <td>2000000000</td>\n",
       "      <td>1</td>\n",
       "    </tr>\n",
       "    <tr>\n",
       "      <th>5412</th>\n",
       "      <td>3.851</td>\n",
       "      <td>1.156364</td>\n",
       "      <td>0.041310</td>\n",
       "      <td>0.124125</td>\n",
       "      <td>0.036600</td>\n",
       "      <td>0.0</td>\n",
       "      <td>0.0</td>\n",
       "      <td>0.0</td>\n",
       "      <td>0.0</td>\n",
       "      <td>63</td>\n",
       "      <td>67</td>\n",
       "      <td>67</td>\n",
       "      <td>62</td>\n",
       "      <td>60</td>\n",
       "      <td>2000000000</td>\n",
       "      <td>1</td>\n",
       "    </tr>\n",
       "    <tr>\n",
       "      <th>5413</th>\n",
       "      <td>3.851</td>\n",
       "      <td>1.158024</td>\n",
       "      <td>0.037638</td>\n",
       "      <td>0.124125</td>\n",
       "      <td>0.036600</td>\n",
       "      <td>0.0</td>\n",
       "      <td>0.0</td>\n",
       "      <td>0.0</td>\n",
       "      <td>0.0</td>\n",
       "      <td>63</td>\n",
       "      <td>67</td>\n",
       "      <td>67</td>\n",
       "      <td>62</td>\n",
       "      <td>60</td>\n",
       "      <td>2000000000</td>\n",
       "      <td>1</td>\n",
       "    </tr>\n",
       "    <tr>\n",
       "      <th>5414</th>\n",
       "      <td>3.844</td>\n",
       "      <td>1.156364</td>\n",
       "      <td>0.037638</td>\n",
       "      <td>0.123132</td>\n",
       "      <td>0.036600</td>\n",
       "      <td>0.0</td>\n",
       "      <td>0.0</td>\n",
       "      <td>0.0</td>\n",
       "      <td>0.0</td>\n",
       "      <td>63</td>\n",
       "      <td>67</td>\n",
       "      <td>67</td>\n",
       "      <td>62</td>\n",
       "      <td>60</td>\n",
       "      <td>2000000000</td>\n",
       "      <td>1</td>\n",
       "    </tr>\n",
       "  </tbody>\n",
       "</table>\n",
       "<p>5415 rows × 16 columns</p>\n",
       "</div>"
      ],
      "text/plain": [
       "      total_watts     w_big  w_little     w_gpu     w_mem  usage_c4  usage_c5  \\\n",
       "0           3.065  0.474810  0.033012  0.096321  0.048800       0.0       0.0   \n",
       "1           2.706  0.235620  0.032095  0.096515  0.032940       0.0       0.0   \n",
       "2           2.706  0.235620  0.034846  0.096515  0.032940       0.0       0.0   \n",
       "3           2.637  0.234685  0.034846  0.096321  0.037758       0.0       0.0   \n",
       "4           2.637  0.233750  0.033929  0.096321  0.032886       0.0       0.0   \n",
       "...           ...       ...       ...       ...       ...       ...       ...   \n",
       "5410        3.844  1.157646  0.039474  0.123132  0.035380       0.0       0.0   \n",
       "5411        3.851  1.157646  0.038514  0.123132  0.036600       0.0       0.0   \n",
       "5412        3.851  1.156364  0.041310  0.124125  0.036600       0.0       0.0   \n",
       "5413        3.851  1.158024  0.037638  0.124125  0.036600       0.0       0.0   \n",
       "5414        3.844  1.156364  0.037638  0.123132  0.036600       0.0       0.0   \n",
       "\n",
       "      usage_c6  usage_c7  temp4  temp5  temp6  temp7  temp_gpu  \\\n",
       "0          0.0       0.0     49     53     52     48        47   \n",
       "1          0.0       0.0     48     52     52     48        47   \n",
       "2          0.0       0.0     48     52     52     48        47   \n",
       "3          0.0       0.0     48     51     51     48        47   \n",
       "4          0.0       0.0     48     51     51     48        47   \n",
       "...        ...       ...    ...    ...    ...    ...       ...   \n",
       "5410       0.0       0.0     63     67     67     62        60   \n",
       "5411       0.0       0.0     63     67     67     62        60   \n",
       "5412       0.0       0.0     63     67     67     62        60   \n",
       "5413       0.0       0.0     63     67     67     62        60   \n",
       "5414       0.0       0.0     63     67     67     62        60   \n",
       "\n",
       "      freq_big_cluster  cluster_state  \n",
       "0           1000000000              0  \n",
       "1           1000000000              0  \n",
       "2           1000000000              0  \n",
       "3           1000000000              0  \n",
       "4           1000000000              0  \n",
       "...                ...            ...  \n",
       "5410        2000000000              1  \n",
       "5411        2000000000              1  \n",
       "5412        2000000000              1  \n",
       "5413        2000000000              1  \n",
       "5414        2000000000              1  \n",
       "\n",
       "[5415 rows x 16 columns]"
      ]
     },
     "execution_count": 6,
     "metadata": {},
     "output_type": "execute_result"
    }
   ],
   "source": [
    "data"
   ]
  },
  {
   "cell_type": "code",
   "execution_count": 7,
   "metadata": {},
   "outputs": [],
   "source": [
    "Y = data['cluster_state']\n",
    "y_test_black = test_data_black['cluster_state']\n",
    "y_test_body = test_data_body['cluster_state']\n",
    "X = data.drop(['w_big', 'cluster_state', 'usage_c4', 'usage_c5', 'usage_c6', 'usage_c7'], axis=1)\n",
    "x_test_black = test_data_black.drop(['w_big', 'cluster_state', 'usage_c4', 'usage_c5', 'usage_c6', 'usage_c7'], axis=1)\n",
    "x_test_body = test_data_body.drop(['w_big', 'cluster_state', 'usage_c4', 'usage_c5', 'usage_c6', 'usage_c7'], axis=1)"
   ]
  },
  {
   "cell_type": "code",
   "execution_count": 8,
   "metadata": {},
   "outputs": [
    {
     "data": {
      "text/html": [
       "<div>\n",
       "<style scoped>\n",
       "    .dataframe tbody tr th:only-of-type {\n",
       "        vertical-align: middle;\n",
       "    }\n",
       "\n",
       "    .dataframe tbody tr th {\n",
       "        vertical-align: top;\n",
       "    }\n",
       "\n",
       "    .dataframe thead th {\n",
       "        text-align: right;\n",
       "    }\n",
       "</style>\n",
       "<table border=\"1\" class=\"dataframe\">\n",
       "  <thead>\n",
       "    <tr style=\"text-align: right;\">\n",
       "      <th></th>\n",
       "      <th>total_watts</th>\n",
       "      <th>w_little</th>\n",
       "      <th>w_gpu</th>\n",
       "      <th>w_mem</th>\n",
       "      <th>temp4</th>\n",
       "      <th>temp5</th>\n",
       "      <th>temp6</th>\n",
       "      <th>temp7</th>\n",
       "      <th>temp_gpu</th>\n",
       "      <th>freq_big_cluster</th>\n",
       "    </tr>\n",
       "  </thead>\n",
       "  <tbody>\n",
       "    <tr>\n",
       "      <th>0</th>\n",
       "      <td>3.065</td>\n",
       "      <td>0.033012</td>\n",
       "      <td>0.096321</td>\n",
       "      <td>0.048800</td>\n",
       "      <td>49</td>\n",
       "      <td>53</td>\n",
       "      <td>52</td>\n",
       "      <td>48</td>\n",
       "      <td>47</td>\n",
       "      <td>1000000000</td>\n",
       "    </tr>\n",
       "    <tr>\n",
       "      <th>1</th>\n",
       "      <td>2.706</td>\n",
       "      <td>0.032095</td>\n",
       "      <td>0.096515</td>\n",
       "      <td>0.032940</td>\n",
       "      <td>48</td>\n",
       "      <td>52</td>\n",
       "      <td>52</td>\n",
       "      <td>48</td>\n",
       "      <td>47</td>\n",
       "      <td>1000000000</td>\n",
       "    </tr>\n",
       "    <tr>\n",
       "      <th>2</th>\n",
       "      <td>2.706</td>\n",
       "      <td>0.034846</td>\n",
       "      <td>0.096515</td>\n",
       "      <td>0.032940</td>\n",
       "      <td>48</td>\n",
       "      <td>52</td>\n",
       "      <td>52</td>\n",
       "      <td>48</td>\n",
       "      <td>47</td>\n",
       "      <td>1000000000</td>\n",
       "    </tr>\n",
       "    <tr>\n",
       "      <th>3</th>\n",
       "      <td>2.637</td>\n",
       "      <td>0.034846</td>\n",
       "      <td>0.096321</td>\n",
       "      <td>0.037758</td>\n",
       "      <td>48</td>\n",
       "      <td>51</td>\n",
       "      <td>51</td>\n",
       "      <td>48</td>\n",
       "      <td>47</td>\n",
       "      <td>1000000000</td>\n",
       "    </tr>\n",
       "    <tr>\n",
       "      <th>4</th>\n",
       "      <td>2.637</td>\n",
       "      <td>0.033929</td>\n",
       "      <td>0.096321</td>\n",
       "      <td>0.032886</td>\n",
       "      <td>48</td>\n",
       "      <td>51</td>\n",
       "      <td>51</td>\n",
       "      <td>48</td>\n",
       "      <td>47</td>\n",
       "      <td>1000000000</td>\n",
       "    </tr>\n",
       "    <tr>\n",
       "      <th>...</th>\n",
       "      <td>...</td>\n",
       "      <td>...</td>\n",
       "      <td>...</td>\n",
       "      <td>...</td>\n",
       "      <td>...</td>\n",
       "      <td>...</td>\n",
       "      <td>...</td>\n",
       "      <td>...</td>\n",
       "      <td>...</td>\n",
       "      <td>...</td>\n",
       "    </tr>\n",
       "    <tr>\n",
       "      <th>5410</th>\n",
       "      <td>3.844</td>\n",
       "      <td>0.039474</td>\n",
       "      <td>0.123132</td>\n",
       "      <td>0.035380</td>\n",
       "      <td>63</td>\n",
       "      <td>67</td>\n",
       "      <td>67</td>\n",
       "      <td>62</td>\n",
       "      <td>60</td>\n",
       "      <td>2000000000</td>\n",
       "    </tr>\n",
       "    <tr>\n",
       "      <th>5411</th>\n",
       "      <td>3.851</td>\n",
       "      <td>0.038514</td>\n",
       "      <td>0.123132</td>\n",
       "      <td>0.036600</td>\n",
       "      <td>63</td>\n",
       "      <td>67</td>\n",
       "      <td>67</td>\n",
       "      <td>62</td>\n",
       "      <td>60</td>\n",
       "      <td>2000000000</td>\n",
       "    </tr>\n",
       "    <tr>\n",
       "      <th>5412</th>\n",
       "      <td>3.851</td>\n",
       "      <td>0.041310</td>\n",
       "      <td>0.124125</td>\n",
       "      <td>0.036600</td>\n",
       "      <td>63</td>\n",
       "      <td>67</td>\n",
       "      <td>67</td>\n",
       "      <td>62</td>\n",
       "      <td>60</td>\n",
       "      <td>2000000000</td>\n",
       "    </tr>\n",
       "    <tr>\n",
       "      <th>5413</th>\n",
       "      <td>3.851</td>\n",
       "      <td>0.037638</td>\n",
       "      <td>0.124125</td>\n",
       "      <td>0.036600</td>\n",
       "      <td>63</td>\n",
       "      <td>67</td>\n",
       "      <td>67</td>\n",
       "      <td>62</td>\n",
       "      <td>60</td>\n",
       "      <td>2000000000</td>\n",
       "    </tr>\n",
       "    <tr>\n",
       "      <th>5414</th>\n",
       "      <td>3.844</td>\n",
       "      <td>0.037638</td>\n",
       "      <td>0.123132</td>\n",
       "      <td>0.036600</td>\n",
       "      <td>63</td>\n",
       "      <td>67</td>\n",
       "      <td>67</td>\n",
       "      <td>62</td>\n",
       "      <td>60</td>\n",
       "      <td>2000000000</td>\n",
       "    </tr>\n",
       "  </tbody>\n",
       "</table>\n",
       "<p>5415 rows × 10 columns</p>\n",
       "</div>"
      ],
      "text/plain": [
       "      total_watts  w_little     w_gpu     w_mem  temp4  temp5  temp6  temp7  \\\n",
       "0           3.065  0.033012  0.096321  0.048800     49     53     52     48   \n",
       "1           2.706  0.032095  0.096515  0.032940     48     52     52     48   \n",
       "2           2.706  0.034846  0.096515  0.032940     48     52     52     48   \n",
       "3           2.637  0.034846  0.096321  0.037758     48     51     51     48   \n",
       "4           2.637  0.033929  0.096321  0.032886     48     51     51     48   \n",
       "...           ...       ...       ...       ...    ...    ...    ...    ...   \n",
       "5410        3.844  0.039474  0.123132  0.035380     63     67     67     62   \n",
       "5411        3.851  0.038514  0.123132  0.036600     63     67     67     62   \n",
       "5412        3.851  0.041310  0.124125  0.036600     63     67     67     62   \n",
       "5413        3.851  0.037638  0.124125  0.036600     63     67     67     62   \n",
       "5414        3.844  0.037638  0.123132  0.036600     63     67     67     62   \n",
       "\n",
       "      temp_gpu  freq_big_cluster  \n",
       "0           47        1000000000  \n",
       "1           47        1000000000  \n",
       "2           47        1000000000  \n",
       "3           47        1000000000  \n",
       "4           47        1000000000  \n",
       "...        ...               ...  \n",
       "5410        60        2000000000  \n",
       "5411        60        2000000000  \n",
       "5412        60        2000000000  \n",
       "5413        60        2000000000  \n",
       "5414        60        2000000000  \n",
       "\n",
       "[5415 rows x 10 columns]"
      ]
     },
     "execution_count": 8,
     "metadata": {},
     "output_type": "execute_result"
    }
   ],
   "source": [
    "X"
   ]
  },
  {
   "cell_type": "markdown",
   "metadata": {},
   "source": [
    "As you can see above, we used the above features in our feature matrix before training both the decision tree classifier and our linear regression models."
   ]
  },
  {
   "cell_type": "markdown",
   "metadata": {},
   "source": [
    "Here are the shapes of each of the training/testing data sets.."
   ]
  },
  {
   "cell_type": "code",
   "execution_count": 9,
   "metadata": {},
   "outputs": [
    {
     "data": {
      "text/plain": [
       "(5415, 10)"
      ]
     },
     "execution_count": 9,
     "metadata": {},
     "output_type": "execute_result"
    }
   ],
   "source": [
    "X.shape"
   ]
  },
  {
   "cell_type": "code",
   "execution_count": 10,
   "metadata": {},
   "outputs": [
    {
     "data": {
      "text/plain": [
       "(5415,)"
      ]
     },
     "execution_count": 10,
     "metadata": {},
     "output_type": "execute_result"
    }
   ],
   "source": [
    "Y.shape"
   ]
  },
  {
   "cell_type": "code",
   "execution_count": 11,
   "metadata": {},
   "outputs": [
    {
     "data": {
      "text/plain": [
       "(1653,)"
      ]
     },
     "execution_count": 11,
     "metadata": {},
     "output_type": "execute_result"
    }
   ],
   "source": [
    "y_test_black.shape"
   ]
  },
  {
   "cell_type": "code",
   "execution_count": 12,
   "metadata": {},
   "outputs": [
    {
     "data": {
      "text/plain": [
       "(1454,)"
      ]
     },
     "execution_count": 12,
     "metadata": {},
     "output_type": "execute_result"
    }
   ],
   "source": [
    "y_test_body.shape"
   ]
  },
  {
   "cell_type": "markdown",
   "metadata": {},
   "source": [
    "### Logistic Regression"
   ]
  },
  {
   "cell_type": "markdown",
   "metadata": {},
   "source": [
    "Blackscholes data set"
   ]
  },
  {
   "cell_type": "code",
   "execution_count": 13,
   "metadata": {},
   "outputs": [],
   "source": [
    "model = linear_model.LogisticRegression(penalty = 'none')\n",
    "model.fit(X, Y)\n",
    "\n",
    "predictions = model.predict(x_test_black)"
   ]
  },
  {
   "cell_type": "code",
   "execution_count": 14,
   "metadata": {},
   "outputs": [
    {
     "data": {
      "text/plain": [
       "0.6672206832871653"
      ]
     },
     "execution_count": 14,
     "metadata": {},
     "output_type": "execute_result"
    }
   ],
   "source": [
    "model.score(X, Y)"
   ]
  },
  {
   "cell_type": "code",
   "execution_count": 15,
   "metadata": {},
   "outputs": [],
   "source": [
    "cm = metrics.confusion_matrix(y_test_black, predictions)\n",
    "score = model.score(x_test_black, y_test_black)"
   ]
  },
  {
   "cell_type": "code",
   "execution_count": 16,
   "metadata": {},
   "outputs": [],
   "source": [
    "def con_mat(cm, score):    \n",
    "    plt.figure(figsize=(9,9))\n",
    "    sns.heatmap(cm, annot=True, fmt=\".3f\", linewidths=.5, square = True, cmap = 'Blues_r')\n",
    "    plt.ylabel('Actual label')\n",
    "    plt.xlabel('Predicted label')\n",
    "    all_sample_title = 'Accuracy Score: {0}'.format(score)\n",
    "    plt.title(all_sample_title, size = 15)"
   ]
  },
  {
   "cell_type": "code",
   "execution_count": 17,
   "metadata": {},
   "outputs": [
    {
     "data": {
      "image/png": "[encoded data removed]",
      "text/plain": [
       "<Figure size 648x648 with 2 Axes>"
      ]
     },
     "metadata": {
      "needs_background": "light"
     },
     "output_type": "display_data"
    }
   ],
   "source": [
    "con_mat(cm, score)"
   ]
  },
  {
   "cell_type": "markdown",
   "metadata": {},
   "source": [
    "bodytrack data set"
   ]
  },
  {
   "cell_type": "code",
   "execution_count": 18,
   "metadata": {},
   "outputs": [
    {
     "name": "stdout",
     "output_type": "stream",
     "text": [
      "0.6672206832871653\n"
     ]
    },
    {
     "data": {
      "image/png": "[encoded data removed]",
      "text/plain": [
       "<Figure size 648x648 with 2 Axes>"
      ]
     },
     "metadata": {
      "needs_background": "light"
     },
     "output_type": "display_data"
    }
   ],
   "source": [
    "model = linear_model.LogisticRegression(penalty = 'none')\n",
    "model.fit(X, Y)\n",
    "\n",
    "predictions = model.predict(x_test_body)\n",
    "\n",
    "print(model.score(X, Y))\n",
    "\n",
    "cm = metrics.confusion_matrix(y_test_body, predictions)\n",
    "score = model.score(x_test_body, y_test_body)\n",
    "\n",
    "con_mat(cm, score)"
   ]
  },
  {
   "cell_type": "markdown",
   "metadata": {},
   "source": [
    "### Decision Tree"
   ]
  },
  {
   "cell_type": "markdown",
   "metadata": {},
   "source": [
    "blackscholes data set"
   ]
  },
  {
   "cell_type": "code",
   "execution_count": 19,
   "metadata": {},
   "outputs": [
    {
     "name": "stdout",
     "output_type": "stream",
     "text": [
      "Training Accuracy: 1.0\n"
     ]
    },
    {
     "data": {
      "image/png": "[encoded data removed]",
      "text/plain": [
       "<Figure size 648x648 with 2 Axes>"
      ]
     },
     "metadata": {
      "needs_background": "light"
     },
     "output_type": "display_data"
    }
   ],
   "source": [
    "model_tree = DecisionTreeClassifier()\n",
    "model_tree.fit(X, Y)\n",
    "\n",
    "train_pred = model_tree.predict(X)\n",
    "predictions_tree = model_tree.predict(x_test_black)\n",
    "\n",
    "\n",
    "cm_tree = metrics.confusion_matrix(y_test_black, predictions_tree)\n",
    "score_tree = model_tree.score(x_test_black, y_test_black)\n",
    "\n",
    "con_mat(cm_tree, score_tree)\n",
    "\n",
    "print(\"Training Accuracy: \" + str(model_tree.score(X, Y)))\n"
   ]
  },
  {
   "cell_type": "markdown",
   "metadata": {},
   "source": [
    "bodytrack data set"
   ]
  },
  {
   "cell_type": "code",
   "execution_count": 20,
   "metadata": {},
   "outputs": [
    {
     "data": {
      "image/png": "[encoded data removed]",
      "text/plain": [
       "<Figure size 648x648 with 2 Axes>"
      ]
     },
     "metadata": {
      "needs_background": "light"
     },
     "output_type": "display_data"
    }
   ],
   "source": [
    "model_tree = DecisionTreeClassifier()\n",
    "model_tree.fit(X, Y)\n",
    "\n",
    "train_pred = model_tree.predict(X)\n",
    "predictions_tree = model_tree.predict(x_test_body)\n",
    "\n",
    "\n",
    "cm_tree = metrics.confusion_matrix(y_test_body, predictions_tree)\n",
    "score_tree = model_tree.score(x_test_body, y_test_body)\n",
    "\n",
    "con_mat(cm_tree, score_tree)\n",
    "\n",
    "#print(\"Training Accuracy: \" + str(model_tree.score(X, Y)))\n"
   ]
  },
  {
   "cell_type": "markdown",
   "metadata": {},
   "source": [
    "### Linear Regression"
   ]
  },
  {
   "cell_type": "code",
   "execution_count": 21,
   "metadata": {},
   "outputs": [],
   "source": [
    "data = pd.read_csv(\"xu3_dataset.csv\")\n",
    "test_data_black = pd.read_csv(\"xu3_blackscholes.csv\")\n",
    "test_data_body = pd.read_csv(\"xu3_bodytrack.csv\")"
   ]
  },
  {
   "cell_type": "code",
   "execution_count": 22,
   "metadata": {},
   "outputs": [],
   "source": [
    "Y = data['w_big']\n",
    "y_test_black = test_data_black['w_big']\n",
    "y_test_body = test_data_body['w_big']\n",
    "X = data.drop(['w_big', 'usage_c4', 'usage_c5', 'usage_c6', 'usage_c7'], axis=1)\n",
    "x_test_black = test_data_black.drop(['w_big','usage_c4', 'usage_c5', 'usage_c6', 'usage_c7'], axis=1)\n",
    "x_test_body = test_data_body.drop(['w_big','usage_c4', 'usage_c5', 'usage_c6', 'usage_c7'], axis=1)"
   ]
  },
  {
   "cell_type": "code",
   "execution_count": 23,
   "metadata": {},
   "outputs": [
    {
     "data": {
      "text/html": [
       "<div>\n",
       "<style scoped>\n",
       "    .dataframe tbody tr th:only-of-type {\n",
       "        vertical-align: middle;\n",
       "    }\n",
       "\n",
       "    .dataframe tbody tr th {\n",
       "        vertical-align: top;\n",
       "    }\n",
       "\n",
       "    .dataframe thead th {\n",
       "        text-align: right;\n",
       "    }\n",
       "</style>\n",
       "<table border=\"1\" class=\"dataframe\">\n",
       "  <thead>\n",
       "    <tr style=\"text-align: right;\">\n",
       "      <th></th>\n",
       "      <th>total_watts</th>\n",
       "      <th>w_little</th>\n",
       "      <th>w_gpu</th>\n",
       "      <th>w_mem</th>\n",
       "      <th>temp4</th>\n",
       "      <th>temp5</th>\n",
       "      <th>temp6</th>\n",
       "      <th>temp7</th>\n",
       "      <th>temp_gpu</th>\n",
       "      <th>freq_big_cluster</th>\n",
       "    </tr>\n",
       "  </thead>\n",
       "  <tbody>\n",
       "    <tr>\n",
       "      <th>0</th>\n",
       "      <td>3.065</td>\n",
       "      <td>0.033012</td>\n",
       "      <td>0.096321</td>\n",
       "      <td>0.048800</td>\n",
       "      <td>49</td>\n",
       "      <td>53</td>\n",
       "      <td>52</td>\n",
       "      <td>48</td>\n",
       "      <td>47</td>\n",
       "      <td>1000000000</td>\n",
       "    </tr>\n",
       "    <tr>\n",
       "      <th>1</th>\n",
       "      <td>2.706</td>\n",
       "      <td>0.032095</td>\n",
       "      <td>0.096515</td>\n",
       "      <td>0.032940</td>\n",
       "      <td>48</td>\n",
       "      <td>52</td>\n",
       "      <td>52</td>\n",
       "      <td>48</td>\n",
       "      <td>47</td>\n",
       "      <td>1000000000</td>\n",
       "    </tr>\n",
       "    <tr>\n",
       "      <th>2</th>\n",
       "      <td>2.706</td>\n",
       "      <td>0.034846</td>\n",
       "      <td>0.096515</td>\n",
       "      <td>0.032940</td>\n",
       "      <td>48</td>\n",
       "      <td>52</td>\n",
       "      <td>52</td>\n",
       "      <td>48</td>\n",
       "      <td>47</td>\n",
       "      <td>1000000000</td>\n",
       "    </tr>\n",
       "    <tr>\n",
       "      <th>3</th>\n",
       "      <td>2.637</td>\n",
       "      <td>0.034846</td>\n",
       "      <td>0.096321</td>\n",
       "      <td>0.037758</td>\n",
       "      <td>48</td>\n",
       "      <td>51</td>\n",
       "      <td>51</td>\n",
       "      <td>48</td>\n",
       "      <td>47</td>\n",
       "      <td>1000000000</td>\n",
       "    </tr>\n",
       "    <tr>\n",
       "      <th>4</th>\n",
       "      <td>2.637</td>\n",
       "      <td>0.033929</td>\n",
       "      <td>0.096321</td>\n",
       "      <td>0.032886</td>\n",
       "      <td>48</td>\n",
       "      <td>51</td>\n",
       "      <td>51</td>\n",
       "      <td>48</td>\n",
       "      <td>47</td>\n",
       "      <td>1000000000</td>\n",
       "    </tr>\n",
       "    <tr>\n",
       "      <th>...</th>\n",
       "      <td>...</td>\n",
       "      <td>...</td>\n",
       "      <td>...</td>\n",
       "      <td>...</td>\n",
       "      <td>...</td>\n",
       "      <td>...</td>\n",
       "      <td>...</td>\n",
       "      <td>...</td>\n",
       "      <td>...</td>\n",
       "      <td>...</td>\n",
       "    </tr>\n",
       "    <tr>\n",
       "      <th>5410</th>\n",
       "      <td>3.844</td>\n",
       "      <td>0.039474</td>\n",
       "      <td>0.123132</td>\n",
       "      <td>0.035380</td>\n",
       "      <td>63</td>\n",
       "      <td>67</td>\n",
       "      <td>67</td>\n",
       "      <td>62</td>\n",
       "      <td>60</td>\n",
       "      <td>2000000000</td>\n",
       "    </tr>\n",
       "    <tr>\n",
       "      <th>5411</th>\n",
       "      <td>3.851</td>\n",
       "      <td>0.038514</td>\n",
       "      <td>0.123132</td>\n",
       "      <td>0.036600</td>\n",
       "      <td>63</td>\n",
       "      <td>67</td>\n",
       "      <td>67</td>\n",
       "      <td>62</td>\n",
       "      <td>60</td>\n",
       "      <td>2000000000</td>\n",
       "    </tr>\n",
       "    <tr>\n",
       "      <th>5412</th>\n",
       "      <td>3.851</td>\n",
       "      <td>0.041310</td>\n",
       "      <td>0.124125</td>\n",
       "      <td>0.036600</td>\n",
       "      <td>63</td>\n",
       "      <td>67</td>\n",
       "      <td>67</td>\n",
       "      <td>62</td>\n",
       "      <td>60</td>\n",
       "      <td>2000000000</td>\n",
       "    </tr>\n",
       "    <tr>\n",
       "      <th>5413</th>\n",
       "      <td>3.851</td>\n",
       "      <td>0.037638</td>\n",
       "      <td>0.124125</td>\n",
       "      <td>0.036600</td>\n",
       "      <td>63</td>\n",
       "      <td>67</td>\n",
       "      <td>67</td>\n",
       "      <td>62</td>\n",
       "      <td>60</td>\n",
       "      <td>2000000000</td>\n",
       "    </tr>\n",
       "    <tr>\n",
       "      <th>5414</th>\n",
       "      <td>3.844</td>\n",
       "      <td>0.037638</td>\n",
       "      <td>0.123132</td>\n",
       "      <td>0.036600</td>\n",
       "      <td>63</td>\n",
       "      <td>67</td>\n",
       "      <td>67</td>\n",
       "      <td>62</td>\n",
       "      <td>60</td>\n",
       "      <td>2000000000</td>\n",
       "    </tr>\n",
       "  </tbody>\n",
       "</table>\n",
       "<p>5415 rows × 10 columns</p>\n",
       "</div>"
      ],
      "text/plain": [
       "      total_watts  w_little     w_gpu     w_mem  temp4  temp5  temp6  temp7  \\\n",
       "0           3.065  0.033012  0.096321  0.048800     49     53     52     48   \n",
       "1           2.706  0.032095  0.096515  0.032940     48     52     52     48   \n",
       "2           2.706  0.034846  0.096515  0.032940     48     52     52     48   \n",
       "3           2.637  0.034846  0.096321  0.037758     48     51     51     48   \n",
       "4           2.637  0.033929  0.096321  0.032886     48     51     51     48   \n",
       "...           ...       ...       ...       ...    ...    ...    ...    ...   \n",
       "5410        3.844  0.039474  0.123132  0.035380     63     67     67     62   \n",
       "5411        3.851  0.038514  0.123132  0.036600     63     67     67     62   \n",
       "5412        3.851  0.041310  0.124125  0.036600     63     67     67     62   \n",
       "5413        3.851  0.037638  0.124125  0.036600     63     67     67     62   \n",
       "5414        3.844  0.037638  0.123132  0.036600     63     67     67     62   \n",
       "\n",
       "      temp_gpu  freq_big_cluster  \n",
       "0           47        1000000000  \n",
       "1           47        1000000000  \n",
       "2           47        1000000000  \n",
       "3           47        1000000000  \n",
       "4           47        1000000000  \n",
       "...        ...               ...  \n",
       "5410        60        2000000000  \n",
       "5411        60        2000000000  \n",
       "5412        60        2000000000  \n",
       "5413        60        2000000000  \n",
       "5414        60        2000000000  \n",
       "\n",
       "[5415 rows x 10 columns]"
      ]
     },
     "execution_count": 23,
     "metadata": {},
     "output_type": "execute_result"
    }
   ],
   "source": [
    "X"
   ]
  },
  {
   "cell_type": "markdown",
   "metadata": {},
   "source": [
    "blacksholes"
   ]
  },
  {
   "cell_type": "code",
   "execution_count": 24,
   "metadata": {},
   "outputs": [
    {
     "name": "stdout",
     "output_type": "stream",
     "text": [
      "Train MSE: 0.0018128606164643324\n",
      "Test MSE: 0.0031462623403009163\n",
      "0.9977033464816562\n"
     ]
    }
   ],
   "source": [
    "model = linear_model.LinearRegression()\n",
    "model.fit(X, Y)\n",
    "\n",
    "train_pred = model.predict(X)\n",
    "predictions = model.predict(x_test_black)\n",
    "\n",
    "mse_train = metrics.mean_squared_error(Y, train_pred)\n",
    "mse = metrics.mean_squared_error(y_test_black, predictions)\n",
    "\n",
    "print(\"Train MSE: \" + str(mse_train))\n",
    "print(\"Test MSE: \" + str(mse))\n",
    "print(model.score(x_test_black, y_test_black))\n"
   ]
  },
  {
   "cell_type": "markdown",
   "metadata": {},
   "source": [
    "bodytrack"
   ]
  },
  {
   "cell_type": "code",
   "execution_count": 25,
   "metadata": {},
   "outputs": [
    {
     "name": "stdout",
     "output_type": "stream",
     "text": [
      "Train MSE: 0.0018128606164643324\n",
      "Test MSE: 0.09625905716512437\n",
      "0.9385784987293606\n"
     ]
    }
   ],
   "source": [
    "model = linear_model.LinearRegression()\n",
    "model.fit(X, Y)\n",
    "\n",
    "train_pred = model.predict(X)\n",
    "predictions = model.predict(x_test_body)\n",
    "\n",
    "mse_train = metrics.mean_squared_error(Y, train_pred)\n",
    "mse = metrics.mean_squared_error(y_test_body, predictions)\n",
    "\n",
    "print(\"Train MSE: \" + str(mse_train))\n",
    "print(\"Test MSE: \" + str(mse))\n",
    "print(model.score(x_test_body, y_test_body))\n"
   ]
  },
  {
   "cell_type": "code",
   "execution_count": 26,
   "metadata": {},
   "outputs": [
    {
     "name": "stdout",
     "output_type": "stream",
     "text": [
      "done\n"
     ]
    }
   ],
   "source": [
    "print(\"done\")"
   ]
  },
  {
   "cell_type": "markdown",
   "metadata": {},
   "source": [
    "## Problem 3"
   ]
  },
  {
   "cell_type": "code",
   "execution_count": 65,
   "metadata": {},
   "outputs": [],
   "source": [
    "data = pd.read_csv(\"xu3_dataset.csv\")\n",
    "test_data_black = pd.read_csv(\"xu3_blackscholes.csv\")\n",
    "test_data_body = pd.read_csv(\"xu3_bodytrack.csv\")"
   ]
  },
  {
   "cell_type": "code",
   "execution_count": 66,
   "metadata": {},
   "outputs": [],
   "source": [
    "temp_data_black = test_data_black[['temp4', 'temp5', 'temp6', 'temp7']]\n",
    "test_black_4 = test_data_black['temp4']\n",
    "test_black_5 = test_data_black['temp5']\n",
    "test_black_6 = test_data_black['temp6']\n",
    "test_black_7 = test_data_black['temp7']"
   ]
  },
  {
   "cell_type": "code",
   "execution_count": 67,
   "metadata": {},
   "outputs": [],
   "source": [
    "temp_data_body = test_data_body[['temp4', 'temp5', 'temp6', 'temp7']]\n",
    "test_body_4 = test_data_body['temp4']\n",
    "test_body_5 = test_data_body['temp5']\n",
    "test_body_6 = test_data_body['temp6']\n",
    "test_body_7 = test_data_body['temp7']"
   ]
  },
  {
   "cell_type": "code",
   "execution_count": 68,
   "metadata": {},
   "outputs": [],
   "source": [
    "temp_data = data[['temp4', 'temp5', 'temp6', 'temp7']]\n",
    "test_4 = data['temp4']\n",
    "test_5 = data['temp5']\n",
    "test_6 = data['temp6']\n",
    "test_7 = data['temp7']"
   ]
  },
  {
   "cell_type": "code",
   "execution_count": 69,
   "metadata": {},
   "outputs": [
    {
     "data": {
      "text/plain": [
       "0       49\n",
       "1       48\n",
       "2       48\n",
       "3       48\n",
       "4       48\n",
       "        ..\n",
       "5410    63\n",
       "5411    63\n",
       "5412    63\n",
       "5413    63\n",
       "5414    63\n",
       "Name: temp4, Length: 5415, dtype: int64"
      ]
     },
     "execution_count": 69,
     "metadata": {},
     "output_type": "execute_result"
    }
   ],
   "source": [
    "test_4"
   ]
  },
  {
   "cell_type": "code",
   "execution_count": 70,
   "metadata": {},
   "outputs": [],
   "source": [
    "test_4 = test_4.shift(-1)\n",
    "test_4 = test_4.drop(len(test_4)-1)\n",
    "test_5 = test_5.shift(-1)\n",
    "test_5 = test_5.drop(len(test_5)-1)\n",
    "test_6 = test_6.shift(-1)\n",
    "test_6 = test_6.drop(len(test_6)-1)\n",
    "test_7 = test_7.shift(-1)\n",
    "test_7 = test_7.drop(len(test_7)-1)"
   ]
  },
  {
   "cell_type": "code",
   "execution_count": 71,
   "metadata": {},
   "outputs": [],
   "source": [
    "test_black_4 = test_black_4.shift(-1)\n",
    "test_black_4 = test_black_4.drop(len(test_black_4)-1)\n",
    "test_black_5 = test_black_5.shift(-1)\n",
    "test_black_5 = test_black_5.drop(len(test_black_5)-1)\n",
    "test_black_6 = test_black_6.shift(-1)\n",
    "test_black_6 = test_black_6.drop(len(test_black_6)-1)\n",
    "test_black_7 = test_black_7.shift(-1)\n",
    "test_black_7 = test_black_7.drop(len(test_black_7)-1)"
   ]
  },
  {
   "cell_type": "code",
   "execution_count": 72,
   "metadata": {},
   "outputs": [],
   "source": [
    "test_body_4 = test_body_4.shift(-1)\n",
    "test_body_4 = test_body_4.drop(len(test_body_4)-1)\n",
    "test_body_5 = test_body_5.shift(-1)\n",
    "test_body_5 = test_body_5.drop(len(test_body_5)-1)\n",
    "test_body_6 = test_body_6.shift(-1)\n",
    "test_body_6 = test_body_6.drop(len(test_body_6)-1)\n",
    "test_body_7 = test_body_7.shift(-1)\n",
    "test_body_7 = test_body_7.drop(len(test_body_7)-1)"
   ]
  },
  {
   "cell_type": "code",
   "execution_count": 73,
   "metadata": {},
   "outputs": [
    {
     "data": {
      "text/html": [
       "<div>\n",
       "<style scoped>\n",
       "    .dataframe tbody tr th:only-of-type {\n",
       "        vertical-align: middle;\n",
       "    }\n",
       "\n",
       "    .dataframe tbody tr th {\n",
       "        vertical-align: top;\n",
       "    }\n",
       "\n",
       "    .dataframe thead th {\n",
       "        text-align: right;\n",
       "    }\n",
       "</style>\n",
       "<table border=\"1\" class=\"dataframe\">\n",
       "  <thead>\n",
       "    <tr style=\"text-align: right;\">\n",
       "      <th></th>\n",
       "      <th>temp4</th>\n",
       "      <th>temp5</th>\n",
       "      <th>temp6</th>\n",
       "      <th>temp7</th>\n",
       "    </tr>\n",
       "  </thead>\n",
       "  <tbody>\n",
       "    <tr>\n",
       "      <th>0</th>\n",
       "      <td>49</td>\n",
       "      <td>53</td>\n",
       "      <td>52</td>\n",
       "      <td>48</td>\n",
       "    </tr>\n",
       "    <tr>\n",
       "      <th>1</th>\n",
       "      <td>48</td>\n",
       "      <td>52</td>\n",
       "      <td>52</td>\n",
       "      <td>48</td>\n",
       "    </tr>\n",
       "    <tr>\n",
       "      <th>2</th>\n",
       "      <td>48</td>\n",
       "      <td>52</td>\n",
       "      <td>52</td>\n",
       "      <td>48</td>\n",
       "    </tr>\n",
       "    <tr>\n",
       "      <th>3</th>\n",
       "      <td>48</td>\n",
       "      <td>51</td>\n",
       "      <td>51</td>\n",
       "      <td>48</td>\n",
       "    </tr>\n",
       "    <tr>\n",
       "      <th>4</th>\n",
       "      <td>48</td>\n",
       "      <td>51</td>\n",
       "      <td>51</td>\n",
       "      <td>48</td>\n",
       "    </tr>\n",
       "    <tr>\n",
       "      <th>...</th>\n",
       "      <td>...</td>\n",
       "      <td>...</td>\n",
       "      <td>...</td>\n",
       "      <td>...</td>\n",
       "    </tr>\n",
       "    <tr>\n",
       "      <th>5410</th>\n",
       "      <td>63</td>\n",
       "      <td>67</td>\n",
       "      <td>67</td>\n",
       "      <td>62</td>\n",
       "    </tr>\n",
       "    <tr>\n",
       "      <th>5411</th>\n",
       "      <td>63</td>\n",
       "      <td>67</td>\n",
       "      <td>67</td>\n",
       "      <td>62</td>\n",
       "    </tr>\n",
       "    <tr>\n",
       "      <th>5412</th>\n",
       "      <td>63</td>\n",
       "      <td>67</td>\n",
       "      <td>67</td>\n",
       "      <td>62</td>\n",
       "    </tr>\n",
       "    <tr>\n",
       "      <th>5413</th>\n",
       "      <td>63</td>\n",
       "      <td>67</td>\n",
       "      <td>67</td>\n",
       "      <td>62</td>\n",
       "    </tr>\n",
       "    <tr>\n",
       "      <th>5414</th>\n",
       "      <td>63</td>\n",
       "      <td>67</td>\n",
       "      <td>67</td>\n",
       "      <td>62</td>\n",
       "    </tr>\n",
       "  </tbody>\n",
       "</table>\n",
       "<p>5415 rows × 4 columns</p>\n",
       "</div>"
      ],
      "text/plain": [
       "      temp4  temp5  temp6  temp7\n",
       "0        49     53     52     48\n",
       "1        48     52     52     48\n",
       "2        48     52     52     48\n",
       "3        48     51     51     48\n",
       "4        48     51     51     48\n",
       "...     ...    ...    ...    ...\n",
       "5410     63     67     67     62\n",
       "5411     63     67     67     62\n",
       "5412     63     67     67     62\n",
       "5413     63     67     67     62\n",
       "5414     63     67     67     62\n",
       "\n",
       "[5415 rows x 4 columns]"
      ]
     },
     "execution_count": 73,
     "metadata": {},
     "output_type": "execute_result"
    }
   ],
   "source": [
    "temp_data"
   ]
  },
  {
   "cell_type": "code",
   "execution_count": 74,
   "metadata": {},
   "outputs": [
    {
     "data": {
      "text/html": [
       "<div>\n",
       "<style scoped>\n",
       "    .dataframe tbody tr th:only-of-type {\n",
       "        vertical-align: middle;\n",
       "    }\n",
       "\n",
       "    .dataframe tbody tr th {\n",
       "        vertical-align: top;\n",
       "    }\n",
       "\n",
       "    .dataframe thead th {\n",
       "        text-align: right;\n",
       "    }\n",
       "</style>\n",
       "<table border=\"1\" class=\"dataframe\">\n",
       "  <thead>\n",
       "    <tr style=\"text-align: right;\">\n",
       "      <th></th>\n",
       "      <th>temp4</th>\n",
       "      <th>temp5</th>\n",
       "      <th>temp6</th>\n",
       "      <th>temp7</th>\n",
       "    </tr>\n",
       "  </thead>\n",
       "  <tbody>\n",
       "    <tr>\n",
       "      <th>0</th>\n",
       "      <td>49</td>\n",
       "      <td>53</td>\n",
       "      <td>52</td>\n",
       "      <td>48</td>\n",
       "    </tr>\n",
       "    <tr>\n",
       "      <th>1</th>\n",
       "      <td>48</td>\n",
       "      <td>52</td>\n",
       "      <td>52</td>\n",
       "      <td>48</td>\n",
       "    </tr>\n",
       "    <tr>\n",
       "      <th>2</th>\n",
       "      <td>48</td>\n",
       "      <td>52</td>\n",
       "      <td>52</td>\n",
       "      <td>48</td>\n",
       "    </tr>\n",
       "    <tr>\n",
       "      <th>3</th>\n",
       "      <td>48</td>\n",
       "      <td>51</td>\n",
       "      <td>51</td>\n",
       "      <td>48</td>\n",
       "    </tr>\n",
       "    <tr>\n",
       "      <th>4</th>\n",
       "      <td>48</td>\n",
       "      <td>51</td>\n",
       "      <td>51</td>\n",
       "      <td>48</td>\n",
       "    </tr>\n",
       "    <tr>\n",
       "      <th>...</th>\n",
       "      <td>...</td>\n",
       "      <td>...</td>\n",
       "      <td>...</td>\n",
       "      <td>...</td>\n",
       "    </tr>\n",
       "    <tr>\n",
       "      <th>5409</th>\n",
       "      <td>63</td>\n",
       "      <td>67</td>\n",
       "      <td>67</td>\n",
       "      <td>62</td>\n",
       "    </tr>\n",
       "    <tr>\n",
       "      <th>5410</th>\n",
       "      <td>63</td>\n",
       "      <td>67</td>\n",
       "      <td>67</td>\n",
       "      <td>62</td>\n",
       "    </tr>\n",
       "    <tr>\n",
       "      <th>5411</th>\n",
       "      <td>63</td>\n",
       "      <td>67</td>\n",
       "      <td>67</td>\n",
       "      <td>62</td>\n",
       "    </tr>\n",
       "    <tr>\n",
       "      <th>5412</th>\n",
       "      <td>63</td>\n",
       "      <td>67</td>\n",
       "      <td>67</td>\n",
       "      <td>62</td>\n",
       "    </tr>\n",
       "    <tr>\n",
       "      <th>5413</th>\n",
       "      <td>63</td>\n",
       "      <td>67</td>\n",
       "      <td>67</td>\n",
       "      <td>62</td>\n",
       "    </tr>\n",
       "  </tbody>\n",
       "</table>\n",
       "<p>5414 rows × 4 columns</p>\n",
       "</div>"
      ],
      "text/plain": [
       "      temp4  temp5  temp6  temp7\n",
       "0        49     53     52     48\n",
       "1        48     52     52     48\n",
       "2        48     52     52     48\n",
       "3        48     51     51     48\n",
       "4        48     51     51     48\n",
       "...     ...    ...    ...    ...\n",
       "5409     63     67     67     62\n",
       "5410     63     67     67     62\n",
       "5411     63     67     67     62\n",
       "5412     63     67     67     62\n",
       "5413     63     67     67     62\n",
       "\n",
       "[5414 rows x 4 columns]"
      ]
     },
     "execution_count": 74,
     "metadata": {},
     "output_type": "execute_result"
    }
   ],
   "source": [
    "temp_data = temp_data.drop(len(temp_data) - 1)\n",
    "temp_data_black = temp_data_black.drop(len(temp_data_black) - 1)\n",
    "temp_data_body = temp_data_body.drop(len(temp_data_body) - 1)\n",
    "temp_data"
   ]
  },
  {
   "cell_type": "markdown",
   "metadata": {},
   "source": [
    "### Temp 4 Model"
   ]
  },
  {
   "cell_type": "code",
   "execution_count": 101,
   "metadata": {},
   "outputs": [
    {
     "name": "stdout",
     "output_type": "stream",
     "text": [
      "MSE Core 4 (Blackscholes):  0.15376662457196358\n",
      "MSE Core 4: (Bodytrack) 1.4208547649285843\n",
      "Score Core 4 (Blackscholes): 0.9982504259524051\n",
      "Score Core 4 (Bodytrack): 0.9806982520076866\n"
     ]
    },
    {
     "data": {
      "text/plain": [
       "Text(0.5, 1.0, 'Predicted Temp For Core 4 vs Acual Temp (Blackschole)')"
      ]
     },
     "execution_count": 101,
     "metadata": {},
     "output_type": "execute_result"
    },
    {
     "data": {
      "image/png": "[encoded data removed]",
      "text/plain": [
       "<Figure size 1080x1080 with 1 Axes>"
      ]
     },
     "metadata": {
      "needs_background": "light"
     },
     "output_type": "display_data"
    }
   ],
   "source": [
    "model_4 = MLPRegressor(hidden_layer_sizes=(100,60,30), activation='relu', random_state=0)\n",
    "\n",
    "model_4.fit(temp_data, test_4)\n",
    "prediction_black_4 = model_4.predict(temp_data_black)\n",
    "mse_black_4 = metrics.mean_squared_error(test_black_4, prediction_black_4)\n",
    "print(\"MSE Core 4 (Blackscholes): \", mse_black_4)\n",
    "prediction_body_4 = model_4.predict(temp_data_body)\n",
    "mse_body_4 = metrics.mean_squared_error(test_body_4, prediction_body_4)\n",
    "print(\"MSE Core 4: (Bodytrack)\", mse_body_4)\n",
    "print(\"Score Core 4 (Blackscholes):\", model_4.score(temp_data_black, test_black_4))\n",
    "print(\"Score Core 4 (Bodytrack):\", model_4.score(temp_data_body, test_body_4))\n",
    "\n",
    "fig = plt.figure(figsize=(15,15))\n",
    "plt.plot(test_black_4)\n",
    "plt.plot(prediction_black_4)\n",
    "plt.xlabel(\"Time\")\n",
    "plt.ylabel(\"Temperature (C)\")\n",
    "plt.title(\"Predicted Temp For Core 4 vs Acual Temp (Blackschole)\")"
   ]
  },
  {
   "cell_type": "code",
   "execution_count": 100,
   "metadata": {},
   "outputs": [
    {
     "data": {
      "text/plain": [
       "Text(0.5, 1.0, 'Predicted Temp For Core 4 vs Acual Temp (Bodytrack)')"
      ]
     },
     "execution_count": 100,
     "metadata": {},
     "output_type": "execute_result"
    },
    {
     "data": {
      "image/png": "[encoded data removed]",
      "text/plain": [
       "<Figure size 1080x1080 with 1 Axes>"
      ]
     },
     "metadata": {
      "needs_background": "light"
     },
     "output_type": "display_data"
    }
   ],
   "source": [
    "fig2 = plt.figure(figsize=(15,15))\n",
    "plt.plot(test_body_4)\n",
    "plt.plot(prediction_body_4)\n",
    "plt.xlabel(\"Time\")\n",
    "plt.ylabel(\"Temperature (C)\")\n",
    "plt.title(\"Predicted Temp For Core 4 vs Acual Temp (Bodytrack)\")"
   ]
  },
  {
   "cell_type": "markdown",
   "metadata": {},
   "source": [
    "### Temp 5 Model"
   ]
  },
  {
   "cell_type": "code",
   "execution_count": 102,
   "metadata": {},
   "outputs": [
    {
     "name": "stdout",
     "output_type": "stream",
     "text": [
      "MSE Core 5 (Blackscholes):  0.3220482476119708\n",
      "MSE Core 5: (Bodytrack) 1.4014931166414206\n",
      "Score Core 5 (Blackscholes): 0.9970411277629407\n",
      "Score Core 5 (Bodytrack): 0.9864775387350785\n"
     ]
    }
   ],
   "source": [
    "model_5 = MLPRegressor(hidden_layer_sizes=(100,60,30), activation='relu', random_state=0)\n",
    "\n",
    "model_5.fit(temp_data, test_5)\n",
    "prediction_black_5 = model_5.predict(temp_data_black)\n",
    "mse_black_5 = metrics.mean_squared_error(test_black_5, prediction_black_5)\n",
    "print(\"MSE Core 5 (Blackscholes): \", mse_black_5)\n",
    "prediction_body_5 = model_5.predict(temp_data_body)\n",
    "mse_body_5 = metrics.mean_squared_error(test_body_5, prediction_body_5)\n",
    "print(\"MSE Core 5: (Bodytrack)\", mse_body_5)\n",
    "print(\"Score Core 5 (Blackscholes):\", model_5.score(temp_data_black, test_black_5))\n",
    "print(\"Score Core 5 (Bodytrack):\", model_5.score(temp_data_body, test_body_5))"
   ]
  },
  {
   "cell_type": "markdown",
   "metadata": {},
   "source": [
    "### Temp 6 Model"
   ]
  },
  {
   "cell_type": "code",
   "execution_count": 103,
   "metadata": {},
   "outputs": [
    {
     "name": "stdout",
     "output_type": "stream",
     "text": [
      "MSE Core 6 (Blackscholes):  0.18962233037564905\n",
      "MSE Core 6: (Bodytrack) 1.408207076135012\n",
      "Score Core 6 (Blackscholes): 0.9980584549211076\n",
      "Score Core 6 (Bodytrack): 0.9865044458730869\n"
     ]
    }
   ],
   "source": [
    "model_6 = MLPRegressor(hidden_layer_sizes=(100,60,30), activation='relu', random_state=0)\n",
    "\n",
    "model_6.fit(temp_data, test_6)\n",
    "prediction_black_6 = model_6.predict(temp_data_black)\n",
    "mse_black_6 = metrics.mean_squared_error(test_black_6, prediction_black_6)\n",
    "print(\"MSE Core 6 (Blackscholes): \", mse_black_6)\n",
    "prediction_body_6 = model_6.predict(temp_data_body)\n",
    "mse_body_6 = metrics.mean_squared_error(test_body_6, prediction_body_6)\n",
    "print(\"MSE Core 6: (Bodytrack)\", mse_body_6)\n",
    "print(\"Score Core 6 (Blackscholes):\", model_6.score(temp_data_black, test_black_6))\n",
    "print(\"Score Core 6 (Bodytrack):\", model_6.score(temp_data_body, test_body_6))"
   ]
  },
  {
   "cell_type": "markdown",
   "metadata": {},
   "source": [
    "### Temp 7 Model"
   ]
  },
  {
   "cell_type": "code",
   "execution_count": 104,
   "metadata": {},
   "outputs": [
    {
     "name": "stdout",
     "output_type": "stream",
     "text": [
      "MSE Core 7 (Blackscholes):  0.11576752903213744\n",
      "MSE Core 7: (Bodytrack) 0.735954478734501\n",
      "Score Core 7 (Blackscholes): 0.9984722667872097\n",
      "Score Core 7 (Bodytrack): 0.988538328540986\n"
     ]
    }
   ],
   "source": [
    "model_7 = MLPRegressor(hidden_layer_sizes=(100,60,30), activation='relu', random_state=0)\n",
    "\n",
    "model_7.fit(temp_data, test_7)\n",
    "prediction_black_7 = model_7.predict(temp_data_black)\n",
    "mse_black_7 = metrics.mean_squared_error(test_black_7, prediction_black_7)\n",
    "print(\"MSE Core 7 (Blackscholes): \", mse_black_7)\n",
    "prediction_body_7 = model_7.predict(temp_data_body)\n",
    "mse_body_7 = metrics.mean_squared_error(test_body_7, prediction_body_7)\n",
    "print(\"MSE Core 7: (Bodytrack)\", mse_body_7)\n",
    "print(\"Score Core 7 (Blackscholes):\", model_7.score(temp_data_black, test_black_7))\n",
    "print(\"Score Core 7 (Bodytrack):\", model_7.score(temp_data_body, test_body_7))"
   ]
  },
  {
   "cell_type": "code",
   "execution_count": null,
   "metadata": {},
   "outputs": [],
   "source": []
  },
  {
   "cell_type": "code",
   "execution_count": null,
   "metadata": {},
   "outputs": [],
   "source": []
  }
 ],
 "metadata": {
  "kernelspec": {
   "display_name": "Python 3",
   "language": "python",
   "name": "python3"
  },
  "language_info": {
   "codemirror_mode": {
    "name": "ipython",
    "version": 3
   },
   "file_extension": ".py",
   "mimetype": "text/x-python",
   "name": "python",
   "nbconvert_exporter": "python",
   "pygments_lexer": "ipython3",
   "version": "3.8.3"
  }
 },
 "nbformat": 4,
 "nbformat_minor": 4
}
